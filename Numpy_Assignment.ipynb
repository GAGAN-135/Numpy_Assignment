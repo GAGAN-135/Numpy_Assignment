{
  "nbformat": 4,
  "nbformat_minor": 0,
  "metadata": {
    "colab": {
      "provenance": []
    },
    "kernelspec": {
      "name": "python3",
      "display_name": "Python 3"
    },
    "language_info": {
      "name": "python"
    }
  },
  "cells": [
    {
      "cell_type": "code",
      "execution_count": 1,
      "metadata": {
        "id": "5VeHAuuIvkF5"
      },
      "outputs": [],
      "source": [
        "import numpy as np\n",
        "import pandas as pd"
      ]
    },
    {
      "cell_type": "code",
      "source": [
        "'''Q1-Create a NumPy array 'arr' of integers from 0 to 5 and print its data type'''\n",
        "arr=np.arange(0,6,1)\n",
        "arr.dtype"
      ],
      "metadata": {
        "colab": {
          "base_uri": "https://localhost:8080/"
        },
        "id": "dy_IlAqfwNPB",
        "outputId": "aa7e051b-9615-4c64-a66b-007f41e40284"
      },
      "execution_count": 2,
      "outputs": [
        {
          "output_type": "execute_result",
          "data": {
            "text/plain": [
              "dtype('int64')"
            ]
          },
          "metadata": {},
          "execution_count": 2
        }
      ]
    },
    {
      "cell_type": "code",
      "source": [
        "'''Q2-Given a NumPy array 'arr', check if its data type is float64\n",
        "arr = np.array([1.5, 2.6, 3.7])'''\n",
        "arr = np.array([1.5, 2.6, 3.7])\n",
        "arr.dtype"
      ],
      "metadata": {
        "colab": {
          "base_uri": "https://localhost:8080/"
        },
        "id": "8KdlohxLwqsd",
        "outputId": "cbca307b-c8de-480d-b039-525b26c8e161"
      },
      "execution_count": 3,
      "outputs": [
        {
          "output_type": "execute_result",
          "data": {
            "text/plain": [
              "dtype('float64')"
            ]
          },
          "metadata": {},
          "execution_count": 3
        }
      ]
    },
    {
      "cell_type": "code",
      "source": [
        "'''Q3- Create a NumPy array 'arr' with a data type of complex128 containing three complex numbers'''\n",
        "arr = np.array([1+2j, 3+4j, 5+6j])\n",
        "arr.dtype"
      ],
      "metadata": {
        "colab": {
          "base_uri": "https://localhost:8080/"
        },
        "id": "Tm0c8SYoxq1T",
        "outputId": "22f70308-a0f5-4771-ebbf-a0aa584abc90"
      },
      "execution_count": 4,
      "outputs": [
        {
          "output_type": "execute_result",
          "data": {
            "text/plain": [
              "dtype('complex128')"
            ]
          },
          "metadata": {},
          "execution_count": 4
        }
      ]
    },
    {
      "cell_type": "code",
      "source": [],
      "metadata": {
        "id": "X2u0kcopy8qg"
      },
      "execution_count": 4,
      "outputs": []
    },
    {
      "cell_type": "code",
      "source": [
        "'''Q4-Convert an existing NumPy array 'arr' of integers to float32 data type'''\n",
        "arr=np.arange(0,6,1)\n",
        "arr.dtype\n",
        "arr.astype('float32')"
      ],
      "metadata": {
        "colab": {
          "base_uri": "https://localhost:8080/"
        },
        "id": "QpQasePsy_Nr",
        "outputId": "a3c312a0-ed10-40a8-826a-f7b36e2c7459"
      },
      "execution_count": 5,
      "outputs": [
        {
          "output_type": "execute_result",
          "data": {
            "text/plain": [
              "array([0., 1., 2., 3., 4., 5.], dtype=float32)"
            ]
          },
          "metadata": {},
          "execution_count": 5
        }
      ]
    },
    {
      "cell_type": "code",
      "source": [
        "'''Q5- Given a NumPy array 'arr' with float64 data type, convert it to float32 to reduce decimal precision'''\n",
        "arr = np.array([1.5, 2.6, 3.7])\n",
        "arr.dtype\n",
        "arr.astype('float32')"
      ],
      "metadata": {
        "colab": {
          "base_uri": "https://localhost:8080/"
        },
        "id": "NOIbbuhmzyHK",
        "outputId": "61d390ff-402c-4ce2-ad34-f2e2a0aec3cf"
      },
      "execution_count": 6,
      "outputs": [
        {
          "output_type": "execute_result",
          "data": {
            "text/plain": [
              "array([1.5, 2.6, 3.7], dtype=float32)"
            ]
          },
          "metadata": {},
          "execution_count": 6
        }
      ]
    },
    {
      "cell_type": "code",
      "source": [
        "'''Q6- Write a function array_attributes that takes a NumPy array as input and returns its shape, size, and data\n",
        "type.'''\n",
        "def array_attributes(arr):\n",
        "    shape = arr.shape\n",
        "    size = arr.size\n",
        "    dtype = arr.dtype\n",
        "    return shape, size, dtype\n",
        "arr=np.random.randint(1,4,(3,3))\n",
        "print(array_attributes(arr))"
      ],
      "metadata": {
        "colab": {
          "base_uri": "https://localhost:8080/"
        },
        "id": "4P-rLiz30fcz",
        "outputId": "7024ecda-a68a-4fce-bc0b-2d23ed6904c4"
      },
      "execution_count": 7,
      "outputs": [
        {
          "output_type": "stream",
          "name": "stdout",
          "text": [
            "((3, 3), 9, dtype('int64'))\n"
          ]
        }
      ]
    },
    {
      "cell_type": "code",
      "source": [
        "'''Q7-Create a function array_dimension that takes a NumPy array as input and returns its dimensionality'''\n",
        "def array_dimension(arr):\n",
        "    dimension = arr.ndim\n",
        "    return dimension\n",
        "arr=np.random.randint(1,4,(3,3))\n",
        "print(array_dimension(arr))"
      ],
      "metadata": {
        "colab": {
          "base_uri": "https://localhost:8080/"
        },
        "id": "ED8PyxPA1sHQ",
        "outputId": "d083500b-5781-462c-b84d-d52fc7024254"
      },
      "execution_count": 8,
      "outputs": [
        {
          "output_type": "stream",
          "name": "stdout",
          "text": [
            "2\n"
          ]
        }
      ]
    },
    {
      "cell_type": "code",
      "source": [
        "'''Q8-Design a function item_size_info that takes a NumPy array as input and returns the item size and the total\n",
        "size in bytes'''\n",
        "def  item_size_info(arr):\n",
        "     item_size = arr.size\n",
        "     total_bytes=arr.nbytes\n",
        "     return item_size,total_bytes\n",
        "arr=np.random.randint(1,4,(3,3))\n",
        "print(item_size_info(arr))"
      ],
      "metadata": {
        "colab": {
          "base_uri": "https://localhost:8080/"
        },
        "id": "iI3-88cb3NiH",
        "outputId": "0937e2c8-8673-4645-bed6-9702967799ee"
      },
      "execution_count": 9,
      "outputs": [
        {
          "output_type": "stream",
          "name": "stdout",
          "text": [
            "(9, 72)\n"
          ]
        }
      ]
    },
    {
      "cell_type": "code",
      "source": [
        "'''Q9-Create a function array_strides that takes a NumPy array as input and returns the strides of the array.'''\n",
        "def  array_strides(arr):\n",
        "     arr_strides= arr.strides\n",
        "     return arr_strides\n",
        "arr=np.random.randint(1,4,(3,3))\n",
        "print(array_strides(arr))"
      ],
      "metadata": {
        "colab": {
          "base_uri": "https://localhost:8080/"
        },
        "id": "Wdslgiy04gey",
        "outputId": "9656c8ea-b5cf-4022-89f0-a4956d3bacc3"
      },
      "execution_count": 10,
      "outputs": [
        {
          "output_type": "stream",
          "name": "stdout",
          "text": [
            "(24, 8)\n"
          ]
        }
      ]
    },
    {
      "cell_type": "code",
      "source": [
        "'''Q10-Design a function shape_stride_relationship that takes a NumPy array as input and returns the shape\n",
        "and strides of the array.'''\n",
        "def  shape_stride_relationship(arr):\n",
        "     arr_strides= arr.strides\n",
        "     arr_shape=arr.shape\n",
        "     return arr_strides,arr_shape\n",
        "arr=np.random.randint(1,4,(3,3))\n",
        "print(shape_stride_relationship(arr))"
      ],
      "metadata": {
        "colab": {
          "base_uri": "https://localhost:8080/"
        },
        "id": "gJ0P9tee5IXA",
        "outputId": "c8b63aeb-c08c-446d-da3b-935c6e2c2c47"
      },
      "execution_count": 11,
      "outputs": [
        {
          "output_type": "stream",
          "name": "stdout",
          "text": [
            "((24, 8), (3, 3))\n"
          ]
        }
      ]
    },
    {
      "cell_type": "code",
      "source": [
        "'''Q11-Create a function `create_zeros_array` that takes an integer `n` as input and returns a NumPy array of\n",
        "zeros with `n` elements.'''\n",
        "def create_zeros_array(n):\n",
        "   arr=np.zeros(n)\n",
        "   return arr\n",
        "print(create_zeros_array(6))"
      ],
      "metadata": {
        "colab": {
          "base_uri": "https://localhost:8080/"
        },
        "id": "IeBeNzW857m8",
        "outputId": "59817ec9-9f75-4b5f-83fc-aa00f792ec2a"
      },
      "execution_count": 12,
      "outputs": [
        {
          "output_type": "stream",
          "name": "stdout",
          "text": [
            "[0. 0. 0. 0. 0. 0.]\n"
          ]
        }
      ]
    },
    {
      "cell_type": "code",
      "source": [
        "'''Q12-Write a function `create_ones_matrix` that takes integers `rows` and `cols` as inputs and generates a 2D\n",
        "NumPy array filled with ones of size `rows x cols`.'''\n",
        "def create_ones_matrix(rows,cols):\n",
        "   arr=np.ones((rows,cols))\n",
        "   return arr\n",
        "print(create_ones_matrix(3,4))\n"
      ],
      "metadata": {
        "id": "KlIoso6O6eI-",
        "colab": {
          "base_uri": "https://localhost:8080/"
        },
        "outputId": "9cd28ae7-bba6-498e-b8ed-659723e2ae57"
      },
      "execution_count": 13,
      "outputs": [
        {
          "output_type": "stream",
          "name": "stdout",
          "text": [
            "[[1. 1. 1. 1.]\n",
            " [1. 1. 1. 1.]\n",
            " [1. 1. 1. 1.]]\n"
          ]
        }
      ]
    },
    {
      "cell_type": "code",
      "source": [
        "'''Q13- Write a function `generate_range_array` that takes three integers start, stop, and step as arguments and\n",
        "creates a NumPy array with a range starting from `start`, ending at stop (exclusive), and with the specified\n",
        "`step`.'''\n",
        "def generate_range_array(start, stop, step):\n",
        "   arr=np.arange(start, stop, step)\n",
        "   return arr\n",
        "print(generate_range_array(0, 11, 2))"
      ],
      "metadata": {
        "colab": {
          "base_uri": "https://localhost:8080/"
        },
        "id": "BVCC82E9AT8M",
        "outputId": "f283db5b-7f33-4aef-fac1-a3ea78ecedad"
      },
      "execution_count": 14,
      "outputs": [
        {
          "output_type": "stream",
          "name": "stdout",
          "text": [
            "[ 0  2  4  6  8 10]\n"
          ]
        }
      ]
    },
    {
      "cell_type": "code",
      "source": [
        "'''Q14-. Design a function `generate_linear_space` that takes two floats `start`, `stop`, and an integer `num` as\n",
        "arguments and generates a NumPy array with num equally spaced values between `start` and `stop`\n",
        "(inclusive)'''\n",
        "def generate_linear_space(start, stop, num):\n",
        "   arr=np.linspace(start, stop, num)\n",
        "   return arr\n",
        "print(generate_linear_space(1,12,10))"
      ],
      "metadata": {
        "colab": {
          "base_uri": "https://localhost:8080/"
        },
        "id": "R7gaM9hZA-LW",
        "outputId": "5306edab-ddfc-429f-8420-d5157993f8e2"
      },
      "execution_count": 15,
      "outputs": [
        {
          "output_type": "stream",
          "name": "stdout",
          "text": [
            "[ 1.          2.22222222  3.44444444  4.66666667  5.88888889  7.11111111\n",
            "  8.33333333  9.55555556 10.77777778 12.        ]\n"
          ]
        }
      ]
    },
    {
      "cell_type": "code",
      "source": [
        "'''15-Create a function `create_identity_matrix` that takes an integer `n` as input and generates a square\n",
        "identity matrix of size `n x n` using `numpy.eye`.'''\n",
        "def create_identity_matrix(n):\n",
        "    arr=np.eye(n)\n",
        "    return arr\n",
        "print(create_identity_matrix(5))"
      ],
      "metadata": {
        "colab": {
          "base_uri": "https://localhost:8080/"
        },
        "id": "R-jIXZVhBlzA",
        "outputId": "42d6485d-a384-47b3-d3ad-ca6b181e337e"
      },
      "execution_count": 16,
      "outputs": [
        {
          "output_type": "stream",
          "name": "stdout",
          "text": [
            "[[1. 0. 0. 0. 0.]\n",
            " [0. 1. 0. 0. 0.]\n",
            " [0. 0. 1. 0. 0.]\n",
            " [0. 0. 0. 1. 0.]\n",
            " [0. 0. 0. 0. 1.]]\n"
          ]
        }
      ]
    },
    {
      "cell_type": "code",
      "source": [
        "'''Q16-Write a function that takes a Python list and converts it into a NumPy array.'''\n",
        "l=[1,2,3,4,5,6,7,8]\n",
        "arr=np.array(l)\n",
        "arr"
      ],
      "metadata": {
        "colab": {
          "base_uri": "https://localhost:8080/"
        },
        "id": "tGxvaW-3B1Kv",
        "outputId": "25fb1dff-e2c4-4d85-c941-492e66262d47"
      },
      "execution_count": 17,
      "outputs": [
        {
          "output_type": "execute_result",
          "data": {
            "text/plain": [
              "array([1, 2, 3, 4, 5, 6, 7, 8])"
            ]
          },
          "metadata": {},
          "execution_count": 17
        }
      ]
    },
    {
      "cell_type": "code",
      "source": [
        "'''Q17- Create a NumPy array and demonstrate the use of `numpy.view` to create a new array object with the\n",
        "same data'''\n",
        "original_array = np.array([[1, 2, 3], [4, 5, 6]])\n",
        "view_array = original_array.view()\n",
        "view_array[0, 0] = 100\n",
        "print(original_array)\n",
        "print(\"****\")\n",
        "print(view_array)"
      ],
      "metadata": {
        "colab": {
          "base_uri": "https://localhost:8080/"
        },
        "id": "KRc6FDhrDCl9",
        "outputId": "6a1bf8f0-312d-4004-9318-898cc47a7d83"
      },
      "execution_count": 18,
      "outputs": [
        {
          "output_type": "stream",
          "name": "stdout",
          "text": [
            "[[100   2   3]\n",
            " [  4   5   6]]\n",
            "****\n",
            "[[100   2   3]\n",
            " [  4   5   6]]\n"
          ]
        }
      ]
    },
    {
      "cell_type": "code",
      "source": [
        "'''Q18-Write a function that takes two NumPy arrays and concatenates them along a specified axis.'''\n",
        "def concatenate_arrays(arr1, arr2, axis=0):\n",
        "  arr=np.concatenate((arr1, arr2), axis=0)\n",
        "  return arr\n",
        "arr1 = np.array([[1, 2], [3, 4]])\n",
        "arr2 = np.array([[5, 6]])\n",
        "print(concatenate_arrays(arr1,arr2,axis=0))"
      ],
      "metadata": {
        "colab": {
          "base_uri": "https://localhost:8080/"
        },
        "id": "J_ZYGes4Mg-M",
        "outputId": "c1b1e285-3ef4-47c6-88b7-bea2743ff1bf"
      },
      "execution_count": 19,
      "outputs": [
        {
          "output_type": "stream",
          "name": "stdout",
          "text": [
            "[[1 2]\n",
            " [3 4]\n",
            " [5 6]]\n"
          ]
        }
      ]
    },
    {
      "cell_type": "code",
      "source": [
        "'''Q19-Create two NumPy arrays with different shapes and concatenate them horizontally using `numpy.\n",
        "concatenate`'''\n",
        "arr1 = np.array([[1, 2, 3],\n",
        "                 [4, 5, 6]])\n",
        "arr2 = np.array([[5, 8],\n",
        "                 [4, 10]])\n",
        "concatenated_array = np.concatenate((arr1, arr2), axis=1)\n",
        "concatenated_array"
      ],
      "metadata": {
        "colab": {
          "base_uri": "https://localhost:8080/"
        },
        "id": "L76V04YgNWGT",
        "outputId": "98353f1c-ba96-4c20-bb52-c5189b8a407d"
      },
      "execution_count": 50,
      "outputs": [
        {
          "output_type": "execute_result",
          "data": {
            "text/plain": [
              "array([[ 1,  2,  3,  5,  8],\n",
              "       [ 4,  5,  6,  4, 10]])"
            ]
          },
          "metadata": {},
          "execution_count": 50
        }
      ]
    },
    {
      "cell_type": "code",
      "source": [
        "'''Q20- Write a function that vertically stacks multiple NumPy arrays given as a list'''\n",
        "def stack_arrays_vertically(arrays):\n",
        "    return np.vstack(arrays)\n",
        "arr1 = np.array([[1, 2], [3, 4]])\n",
        "arr2 = np.array([[5, 6], [7, 8]])\n",
        "arr3 = np.array([[9, 10], [11, 12]])\n",
        "print(stack_arrays_vertically([arr1,arr2,arr3]))"
      ],
      "metadata": {
        "colab": {
          "base_uri": "https://localhost:8080/"
        },
        "id": "TU97Fi-nN1zT",
        "outputId": "7a1698d7-7262-4372-a087-f7828327c3e9"
      },
      "execution_count": 51,
      "outputs": [
        {
          "output_type": "stream",
          "name": "stdout",
          "text": [
            "[[ 1  2]\n",
            " [ 3  4]\n",
            " [ 5  6]\n",
            " [ 7  8]\n",
            " [ 9 10]\n",
            " [11 12]]\n"
          ]
        }
      ]
    },
    {
      "cell_type": "code",
      "source": [
        "'''Q21-Write a Python function using NumPy to create an array of integers within a specified range (inclusive)\n",
        "with a given step size'''\n",
        "def generate_range_array(start, stop, step):\n",
        "   arr=np.arange(start, stop, step)\n",
        "   return arr\n",
        "print(generate_range_array(0, 11, 3))"
      ],
      "metadata": {
        "colab": {
          "base_uri": "https://localhost:8080/"
        },
        "id": "Z8mR_EHRPU2O",
        "outputId": "7f13b6e9-5b45-456d-bf35-8b6677d7fc21"
      },
      "execution_count": 52,
      "outputs": [
        {
          "output_type": "stream",
          "name": "stdout",
          "text": [
            "[0 3 6 9]\n"
          ]
        }
      ]
    },
    {
      "cell_type": "code",
      "source": [
        "'''Q22- Write a Python function using NumPy to generate an array of 10 equally spaced values between 0 and 1\n",
        "(inclusive)'''\n",
        "def generate_linear_space(start, stop, num):\n",
        "   arr=np.linspace(start, stop, num)\n",
        "   return arr\n",
        "print(generate_linear_space(0,1,10))"
      ],
      "metadata": {
        "colab": {
          "base_uri": "https://localhost:8080/"
        },
        "id": "P-CtI7m3QEnl",
        "outputId": "a937bcd0-d394-435e-c21a-c520dc1141a5"
      },
      "execution_count": 53,
      "outputs": [
        {
          "output_type": "stream",
          "name": "stdout",
          "text": [
            "[0.         0.11111111 0.22222222 0.33333333 0.44444444 0.55555556\n",
            " 0.66666667 0.77777778 0.88888889 1.        ]\n"
          ]
        }
      ]
    },
    {
      "cell_type": "code",
      "source": [
        "'''Q23-. Write a Python function using NumPy to create an array of 5 logarithmically spaced values between 1 and\n",
        "1000 (inclusive)'''\n",
        "def generate_logarithmically_spaced_values():\n",
        "    return np.logspace(start=np.log10(1), stop=np.log10(1000), num=5)\n",
        "generate_logarithmically_spaced_values()"
      ],
      "metadata": {
        "colab": {
          "base_uri": "https://localhost:8080/"
        },
        "id": "QuywNDdPQd-2",
        "outputId": "ce2ffc18-06cb-474c-fb90-94a890fa30a0"
      },
      "execution_count": 54,
      "outputs": [
        {
          "output_type": "execute_result",
          "data": {
            "text/plain": [
              "array([   1.        ,    5.62341325,   31.6227766 ,  177.827941  ,\n",
              "       1000.        ])"
            ]
          },
          "metadata": {},
          "execution_count": 54
        }
      ]
    },
    {
      "cell_type": "code",
      "source": [
        "'''Q24-Create a Pandas DataFrame using a NumPy array that contains 5 rows and 3 columns, where the values\n",
        "are random integers between 1 and 100'''\n",
        "np.random.seed(42)  # For reproducibility\n",
        "data = np.random.randint(1, 101, size=(5, 3))\n",
        "df = pd.DataFrame(data, columns=['Column1', 'Column2', 'Column3'])\n",
        "df"
      ],
      "metadata": {
        "colab": {
          "base_uri": "https://localhost:8080/",
          "height": 206
        },
        "id": "VYHuWd8mRA96",
        "outputId": "724ff3ac-a1ab-4317-b635-62a37fd1931d"
      },
      "execution_count": 55,
      "outputs": [
        {
          "output_type": "execute_result",
          "data": {
            "text/plain": [
              "   Column1  Column2  Column3\n",
              "0       52       93       15\n",
              "1       72       61       21\n",
              "2       83       87       75\n",
              "3       75       88      100\n",
              "4       24        3       22"
            ],
            "text/html": [
              "\n",
              "  <div id=\"df-a3b44a5b-3137-452e-9930-b19f1416f30f\" class=\"colab-df-container\">\n",
              "    <div>\n",
              "<style scoped>\n",
              "    .dataframe tbody tr th:only-of-type {\n",
              "        vertical-align: middle;\n",
              "    }\n",
              "\n",
              "    .dataframe tbody tr th {\n",
              "        vertical-align: top;\n",
              "    }\n",
              "\n",
              "    .dataframe thead th {\n",
              "        text-align: right;\n",
              "    }\n",
              "</style>\n",
              "<table border=\"1\" class=\"dataframe\">\n",
              "  <thead>\n",
              "    <tr style=\"text-align: right;\">\n",
              "      <th></th>\n",
              "      <th>Column1</th>\n",
              "      <th>Column2</th>\n",
              "      <th>Column3</th>\n",
              "    </tr>\n",
              "  </thead>\n",
              "  <tbody>\n",
              "    <tr>\n",
              "      <th>0</th>\n",
              "      <td>52</td>\n",
              "      <td>93</td>\n",
              "      <td>15</td>\n",
              "    </tr>\n",
              "    <tr>\n",
              "      <th>1</th>\n",
              "      <td>72</td>\n",
              "      <td>61</td>\n",
              "      <td>21</td>\n",
              "    </tr>\n",
              "    <tr>\n",
              "      <th>2</th>\n",
              "      <td>83</td>\n",
              "      <td>87</td>\n",
              "      <td>75</td>\n",
              "    </tr>\n",
              "    <tr>\n",
              "      <th>3</th>\n",
              "      <td>75</td>\n",
              "      <td>88</td>\n",
              "      <td>100</td>\n",
              "    </tr>\n",
              "    <tr>\n",
              "      <th>4</th>\n",
              "      <td>24</td>\n",
              "      <td>3</td>\n",
              "      <td>22</td>\n",
              "    </tr>\n",
              "  </tbody>\n",
              "</table>\n",
              "</div>\n",
              "    <div class=\"colab-df-buttons\">\n",
              "\n",
              "  <div class=\"colab-df-container\">\n",
              "    <button class=\"colab-df-convert\" onclick=\"convertToInteractive('df-a3b44a5b-3137-452e-9930-b19f1416f30f')\"\n",
              "            title=\"Convert this dataframe to an interactive table.\"\n",
              "            style=\"display:none;\">\n",
              "\n",
              "  <svg xmlns=\"http://www.w3.org/2000/svg\" height=\"24px\" viewBox=\"0 -960 960 960\">\n",
              "    <path d=\"M120-120v-720h720v720H120Zm60-500h600v-160H180v160Zm220 220h160v-160H400v160Zm0 220h160v-160H400v160ZM180-400h160v-160H180v160Zm440 0h160v-160H620v160ZM180-180h160v-160H180v160Zm440 0h160v-160H620v160Z\"/>\n",
              "  </svg>\n",
              "    </button>\n",
              "\n",
              "  <style>\n",
              "    .colab-df-container {\n",
              "      display:flex;\n",
              "      gap: 12px;\n",
              "    }\n",
              "\n",
              "    .colab-df-convert {\n",
              "      background-color: #E8F0FE;\n",
              "      border: none;\n",
              "      border-radius: 50%;\n",
              "      cursor: pointer;\n",
              "      display: none;\n",
              "      fill: #1967D2;\n",
              "      height: 32px;\n",
              "      padding: 0 0 0 0;\n",
              "      width: 32px;\n",
              "    }\n",
              "\n",
              "    .colab-df-convert:hover {\n",
              "      background-color: #E2EBFA;\n",
              "      box-shadow: 0px 1px 2px rgba(60, 64, 67, 0.3), 0px 1px 3px 1px rgba(60, 64, 67, 0.15);\n",
              "      fill: #174EA6;\n",
              "    }\n",
              "\n",
              "    .colab-df-buttons div {\n",
              "      margin-bottom: 4px;\n",
              "    }\n",
              "\n",
              "    [theme=dark] .colab-df-convert {\n",
              "      background-color: #3B4455;\n",
              "      fill: #D2E3FC;\n",
              "    }\n",
              "\n",
              "    [theme=dark] .colab-df-convert:hover {\n",
              "      background-color: #434B5C;\n",
              "      box-shadow: 0px 1px 3px 1px rgba(0, 0, 0, 0.15);\n",
              "      filter: drop-shadow(0px 1px 2px rgba(0, 0, 0, 0.3));\n",
              "      fill: #FFFFFF;\n",
              "    }\n",
              "  </style>\n",
              "\n",
              "    <script>\n",
              "      const buttonEl =\n",
              "        document.querySelector('#df-a3b44a5b-3137-452e-9930-b19f1416f30f button.colab-df-convert');\n",
              "      buttonEl.style.display =\n",
              "        google.colab.kernel.accessAllowed ? 'block' : 'none';\n",
              "\n",
              "      async function convertToInteractive(key) {\n",
              "        const element = document.querySelector('#df-a3b44a5b-3137-452e-9930-b19f1416f30f');\n",
              "        const dataTable =\n",
              "          await google.colab.kernel.invokeFunction('convertToInteractive',\n",
              "                                                    [key], {});\n",
              "        if (!dataTable) return;\n",
              "\n",
              "        const docLinkHtml = 'Like what you see? Visit the ' +\n",
              "          '<a target=\"_blank\" href=https://colab.research.google.com/notebooks/data_table.ipynb>data table notebook</a>'\n",
              "          + ' to learn more about interactive tables.';\n",
              "        element.innerHTML = '';\n",
              "        dataTable['output_type'] = 'display_data';\n",
              "        await google.colab.output.renderOutput(dataTable, element);\n",
              "        const docLink = document.createElement('div');\n",
              "        docLink.innerHTML = docLinkHtml;\n",
              "        element.appendChild(docLink);\n",
              "      }\n",
              "    </script>\n",
              "  </div>\n",
              "\n",
              "\n",
              "<div id=\"df-8c2a4553-e54d-441e-a8ea-7550aaccf089\">\n",
              "  <button class=\"colab-df-quickchart\" onclick=\"quickchart('df-8c2a4553-e54d-441e-a8ea-7550aaccf089')\"\n",
              "            title=\"Suggest charts\"\n",
              "            style=\"display:none;\">\n",
              "\n",
              "<svg xmlns=\"http://www.w3.org/2000/svg\" height=\"24px\"viewBox=\"0 0 24 24\"\n",
              "     width=\"24px\">\n",
              "    <g>\n",
              "        <path d=\"M19 3H5c-1.1 0-2 .9-2 2v14c0 1.1.9 2 2 2h14c1.1 0 2-.9 2-2V5c0-1.1-.9-2-2-2zM9 17H7v-7h2v7zm4 0h-2V7h2v10zm4 0h-2v-4h2v4z\"/>\n",
              "    </g>\n",
              "</svg>\n",
              "  </button>\n",
              "\n",
              "<style>\n",
              "  .colab-df-quickchart {\n",
              "      --bg-color: #E8F0FE;\n",
              "      --fill-color: #1967D2;\n",
              "      --hover-bg-color: #E2EBFA;\n",
              "      --hover-fill-color: #174EA6;\n",
              "      --disabled-fill-color: #AAA;\n",
              "      --disabled-bg-color: #DDD;\n",
              "  }\n",
              "\n",
              "  [theme=dark] .colab-df-quickchart {\n",
              "      --bg-color: #3B4455;\n",
              "      --fill-color: #D2E3FC;\n",
              "      --hover-bg-color: #434B5C;\n",
              "      --hover-fill-color: #FFFFFF;\n",
              "      --disabled-bg-color: #3B4455;\n",
              "      --disabled-fill-color: #666;\n",
              "  }\n",
              "\n",
              "  .colab-df-quickchart {\n",
              "    background-color: var(--bg-color);\n",
              "    border: none;\n",
              "    border-radius: 50%;\n",
              "    cursor: pointer;\n",
              "    display: none;\n",
              "    fill: var(--fill-color);\n",
              "    height: 32px;\n",
              "    padding: 0;\n",
              "    width: 32px;\n",
              "  }\n",
              "\n",
              "  .colab-df-quickchart:hover {\n",
              "    background-color: var(--hover-bg-color);\n",
              "    box-shadow: 0 1px 2px rgba(60, 64, 67, 0.3), 0 1px 3px 1px rgba(60, 64, 67, 0.15);\n",
              "    fill: var(--button-hover-fill-color);\n",
              "  }\n",
              "\n",
              "  .colab-df-quickchart-complete:disabled,\n",
              "  .colab-df-quickchart-complete:disabled:hover {\n",
              "    background-color: var(--disabled-bg-color);\n",
              "    fill: var(--disabled-fill-color);\n",
              "    box-shadow: none;\n",
              "  }\n",
              "\n",
              "  .colab-df-spinner {\n",
              "    border: 2px solid var(--fill-color);\n",
              "    border-color: transparent;\n",
              "    border-bottom-color: var(--fill-color);\n",
              "    animation:\n",
              "      spin 1s steps(1) infinite;\n",
              "  }\n",
              "\n",
              "  @keyframes spin {\n",
              "    0% {\n",
              "      border-color: transparent;\n",
              "      border-bottom-color: var(--fill-color);\n",
              "      border-left-color: var(--fill-color);\n",
              "    }\n",
              "    20% {\n",
              "      border-color: transparent;\n",
              "      border-left-color: var(--fill-color);\n",
              "      border-top-color: var(--fill-color);\n",
              "    }\n",
              "    30% {\n",
              "      border-color: transparent;\n",
              "      border-left-color: var(--fill-color);\n",
              "      border-top-color: var(--fill-color);\n",
              "      border-right-color: var(--fill-color);\n",
              "    }\n",
              "    40% {\n",
              "      border-color: transparent;\n",
              "      border-right-color: var(--fill-color);\n",
              "      border-top-color: var(--fill-color);\n",
              "    }\n",
              "    60% {\n",
              "      border-color: transparent;\n",
              "      border-right-color: var(--fill-color);\n",
              "    }\n",
              "    80% {\n",
              "      border-color: transparent;\n",
              "      border-right-color: var(--fill-color);\n",
              "      border-bottom-color: var(--fill-color);\n",
              "    }\n",
              "    90% {\n",
              "      border-color: transparent;\n",
              "      border-bottom-color: var(--fill-color);\n",
              "    }\n",
              "  }\n",
              "</style>\n",
              "\n",
              "  <script>\n",
              "    async function quickchart(key) {\n",
              "      const quickchartButtonEl =\n",
              "        document.querySelector('#' + key + ' button');\n",
              "      quickchartButtonEl.disabled = true;  // To prevent multiple clicks.\n",
              "      quickchartButtonEl.classList.add('colab-df-spinner');\n",
              "      try {\n",
              "        const charts = await google.colab.kernel.invokeFunction(\n",
              "            'suggestCharts', [key], {});\n",
              "      } catch (error) {\n",
              "        console.error('Error during call to suggestCharts:', error);\n",
              "      }\n",
              "      quickchartButtonEl.classList.remove('colab-df-spinner');\n",
              "      quickchartButtonEl.classList.add('colab-df-quickchart-complete');\n",
              "    }\n",
              "    (() => {\n",
              "      let quickchartButtonEl =\n",
              "        document.querySelector('#df-8c2a4553-e54d-441e-a8ea-7550aaccf089 button');\n",
              "      quickchartButtonEl.style.display =\n",
              "        google.colab.kernel.accessAllowed ? 'block' : 'none';\n",
              "    })();\n",
              "  </script>\n",
              "</div>\n",
              "\n",
              "  <div id=\"id_45b571b0-8f24-461e-bcb9-6968aac5443c\">\n",
              "    <style>\n",
              "      .colab-df-generate {\n",
              "        background-color: #E8F0FE;\n",
              "        border: none;\n",
              "        border-radius: 50%;\n",
              "        cursor: pointer;\n",
              "        display: none;\n",
              "        fill: #1967D2;\n",
              "        height: 32px;\n",
              "        padding: 0 0 0 0;\n",
              "        width: 32px;\n",
              "      }\n",
              "\n",
              "      .colab-df-generate:hover {\n",
              "        background-color: #E2EBFA;\n",
              "        box-shadow: 0px 1px 2px rgba(60, 64, 67, 0.3), 0px 1px 3px 1px rgba(60, 64, 67, 0.15);\n",
              "        fill: #174EA6;\n",
              "      }\n",
              "\n",
              "      [theme=dark] .colab-df-generate {\n",
              "        background-color: #3B4455;\n",
              "        fill: #D2E3FC;\n",
              "      }\n",
              "\n",
              "      [theme=dark] .colab-df-generate:hover {\n",
              "        background-color: #434B5C;\n",
              "        box-shadow: 0px 1px 3px 1px rgba(0, 0, 0, 0.15);\n",
              "        filter: drop-shadow(0px 1px 2px rgba(0, 0, 0, 0.3));\n",
              "        fill: #FFFFFF;\n",
              "      }\n",
              "    </style>\n",
              "    <button class=\"colab-df-generate\" onclick=\"generateWithVariable('df')\"\n",
              "            title=\"Generate code using this dataframe.\"\n",
              "            style=\"display:none;\">\n",
              "\n",
              "  <svg xmlns=\"http://www.w3.org/2000/svg\" height=\"24px\"viewBox=\"0 0 24 24\"\n",
              "       width=\"24px\">\n",
              "    <path d=\"M7,19H8.4L18.45,9,17,7.55,7,17.6ZM5,21V16.75L18.45,3.32a2,2,0,0,1,2.83,0l1.4,1.43a1.91,1.91,0,0,1,.58,1.4,1.91,1.91,0,0,1-.58,1.4L9.25,21ZM18.45,9,17,7.55Zm-12,3A5.31,5.31,0,0,0,4.9,8.1,5.31,5.31,0,0,0,1,6.5,5.31,5.31,0,0,0,4.9,4.9,5.31,5.31,0,0,0,6.5,1,5.31,5.31,0,0,0,8.1,4.9,5.31,5.31,0,0,0,12,6.5,5.46,5.46,0,0,0,6.5,12Z\"/>\n",
              "  </svg>\n",
              "    </button>\n",
              "    <script>\n",
              "      (() => {\n",
              "      const buttonEl =\n",
              "        document.querySelector('#id_45b571b0-8f24-461e-bcb9-6968aac5443c button.colab-df-generate');\n",
              "      buttonEl.style.display =\n",
              "        google.colab.kernel.accessAllowed ? 'block' : 'none';\n",
              "\n",
              "      buttonEl.onclick = () => {\n",
              "        google.colab.notebook.generateWithVariable('df');\n",
              "      }\n",
              "      })();\n",
              "    </script>\n",
              "  </div>\n",
              "\n",
              "    </div>\n",
              "  </div>\n"
            ],
            "application/vnd.google.colaboratory.intrinsic+json": {
              "type": "dataframe",
              "variable_name": "df",
              "summary": "{\n  \"name\": \"df\",\n  \"rows\": 5,\n  \"fields\": [\n    {\n      \"column\": \"Column1\",\n      \"properties\": {\n        \"dtype\": \"number\",\n        \"std\": 23,\n        \"min\": 24,\n        \"max\": 83,\n        \"num_unique_values\": 5,\n        \"samples\": [\n          72,\n          24,\n          83\n        ],\n        \"semantic_type\": \"\",\n        \"description\": \"\"\n      }\n    },\n    {\n      \"column\": \"Column2\",\n      \"properties\": {\n        \"dtype\": \"number\",\n        \"std\": 37,\n        \"min\": 3,\n        \"max\": 93,\n        \"num_unique_values\": 5,\n        \"samples\": [\n          61,\n          3,\n          87\n        ],\n        \"semantic_type\": \"\",\n        \"description\": \"\"\n      }\n    },\n    {\n      \"column\": \"Column3\",\n      \"properties\": {\n        \"dtype\": \"number\",\n        \"std\": 38,\n        \"min\": 15,\n        \"max\": 100,\n        \"num_unique_values\": 5,\n        \"samples\": [\n          21,\n          22,\n          75\n        ],\n        \"semantic_type\": \"\",\n        \"description\": \"\"\n      }\n    }\n  ]\n}"
            }
          },
          "metadata": {},
          "execution_count": 55
        }
      ]
    },
    {
      "cell_type": "code",
      "source": [
        "'''Q25-Write a function that takes a Pandas DataFrame and replaces all negative values in a specific column\n",
        "with zeros. Use NumPy operations within the Pandas DataFrame.'''\n",
        "def replace_negative_with_zeros(df, column_name):\n",
        "    df[column_name] = np.where(df[column_name] < 0, 0, df[column_name])\n",
        "    return df\n",
        "data = {'A': [1, 2, -3, 4, -5],\n",
        "        'B': [5, -6, 7, -8, 9]}\n",
        "df = pd.DataFrame(data)\n",
        "df=replace_negative_with_zeros(df, 'A')\n",
        "df=replace_negative_with_zeros(df,'B')\n",
        "df"
      ],
      "metadata": {
        "colab": {
          "base_uri": "https://localhost:8080/",
          "height": 206
        },
        "id": "iN1iMpriQ9FG",
        "outputId": "659bd28f-63f2-451d-f9da-dfd7dfdd8c96"
      },
      "execution_count": 56,
      "outputs": [
        {
          "output_type": "execute_result",
          "data": {
            "text/plain": [
              "   A  B\n",
              "0  1  5\n",
              "1  2  0\n",
              "2  0  7\n",
              "3  4  0\n",
              "4  0  9"
            ],
            "text/html": [
              "\n",
              "  <div id=\"df-80bdcedb-9b24-482b-a160-f61b6bc04da0\" class=\"colab-df-container\">\n",
              "    <div>\n",
              "<style scoped>\n",
              "    .dataframe tbody tr th:only-of-type {\n",
              "        vertical-align: middle;\n",
              "    }\n",
              "\n",
              "    .dataframe tbody tr th {\n",
              "        vertical-align: top;\n",
              "    }\n",
              "\n",
              "    .dataframe thead th {\n",
              "        text-align: right;\n",
              "    }\n",
              "</style>\n",
              "<table border=\"1\" class=\"dataframe\">\n",
              "  <thead>\n",
              "    <tr style=\"text-align: right;\">\n",
              "      <th></th>\n",
              "      <th>A</th>\n",
              "      <th>B</th>\n",
              "    </tr>\n",
              "  </thead>\n",
              "  <tbody>\n",
              "    <tr>\n",
              "      <th>0</th>\n",
              "      <td>1</td>\n",
              "      <td>5</td>\n",
              "    </tr>\n",
              "    <tr>\n",
              "      <th>1</th>\n",
              "      <td>2</td>\n",
              "      <td>0</td>\n",
              "    </tr>\n",
              "    <tr>\n",
              "      <th>2</th>\n",
              "      <td>0</td>\n",
              "      <td>7</td>\n",
              "    </tr>\n",
              "    <tr>\n",
              "      <th>3</th>\n",
              "      <td>4</td>\n",
              "      <td>0</td>\n",
              "    </tr>\n",
              "    <tr>\n",
              "      <th>4</th>\n",
              "      <td>0</td>\n",
              "      <td>9</td>\n",
              "    </tr>\n",
              "  </tbody>\n",
              "</table>\n",
              "</div>\n",
              "    <div class=\"colab-df-buttons\">\n",
              "\n",
              "  <div class=\"colab-df-container\">\n",
              "    <button class=\"colab-df-convert\" onclick=\"convertToInteractive('df-80bdcedb-9b24-482b-a160-f61b6bc04da0')\"\n",
              "            title=\"Convert this dataframe to an interactive table.\"\n",
              "            style=\"display:none;\">\n",
              "\n",
              "  <svg xmlns=\"http://www.w3.org/2000/svg\" height=\"24px\" viewBox=\"0 -960 960 960\">\n",
              "    <path d=\"M120-120v-720h720v720H120Zm60-500h600v-160H180v160Zm220 220h160v-160H400v160Zm0 220h160v-160H400v160ZM180-400h160v-160H180v160Zm440 0h160v-160H620v160ZM180-180h160v-160H180v160Zm440 0h160v-160H620v160Z\"/>\n",
              "  </svg>\n",
              "    </button>\n",
              "\n",
              "  <style>\n",
              "    .colab-df-container {\n",
              "      display:flex;\n",
              "      gap: 12px;\n",
              "    }\n",
              "\n",
              "    .colab-df-convert {\n",
              "      background-color: #E8F0FE;\n",
              "      border: none;\n",
              "      border-radius: 50%;\n",
              "      cursor: pointer;\n",
              "      display: none;\n",
              "      fill: #1967D2;\n",
              "      height: 32px;\n",
              "      padding: 0 0 0 0;\n",
              "      width: 32px;\n",
              "    }\n",
              "\n",
              "    .colab-df-convert:hover {\n",
              "      background-color: #E2EBFA;\n",
              "      box-shadow: 0px 1px 2px rgba(60, 64, 67, 0.3), 0px 1px 3px 1px rgba(60, 64, 67, 0.15);\n",
              "      fill: #174EA6;\n",
              "    }\n",
              "\n",
              "    .colab-df-buttons div {\n",
              "      margin-bottom: 4px;\n",
              "    }\n",
              "\n",
              "    [theme=dark] .colab-df-convert {\n",
              "      background-color: #3B4455;\n",
              "      fill: #D2E3FC;\n",
              "    }\n",
              "\n",
              "    [theme=dark] .colab-df-convert:hover {\n",
              "      background-color: #434B5C;\n",
              "      box-shadow: 0px 1px 3px 1px rgba(0, 0, 0, 0.15);\n",
              "      filter: drop-shadow(0px 1px 2px rgba(0, 0, 0, 0.3));\n",
              "      fill: #FFFFFF;\n",
              "    }\n",
              "  </style>\n",
              "\n",
              "    <script>\n",
              "      const buttonEl =\n",
              "        document.querySelector('#df-80bdcedb-9b24-482b-a160-f61b6bc04da0 button.colab-df-convert');\n",
              "      buttonEl.style.display =\n",
              "        google.colab.kernel.accessAllowed ? 'block' : 'none';\n",
              "\n",
              "      async function convertToInteractive(key) {\n",
              "        const element = document.querySelector('#df-80bdcedb-9b24-482b-a160-f61b6bc04da0');\n",
              "        const dataTable =\n",
              "          await google.colab.kernel.invokeFunction('convertToInteractive',\n",
              "                                                    [key], {});\n",
              "        if (!dataTable) return;\n",
              "\n",
              "        const docLinkHtml = 'Like what you see? Visit the ' +\n",
              "          '<a target=\"_blank\" href=https://colab.research.google.com/notebooks/data_table.ipynb>data table notebook</a>'\n",
              "          + ' to learn more about interactive tables.';\n",
              "        element.innerHTML = '';\n",
              "        dataTable['output_type'] = 'display_data';\n",
              "        await google.colab.output.renderOutput(dataTable, element);\n",
              "        const docLink = document.createElement('div');\n",
              "        docLink.innerHTML = docLinkHtml;\n",
              "        element.appendChild(docLink);\n",
              "      }\n",
              "    </script>\n",
              "  </div>\n",
              "\n",
              "\n",
              "<div id=\"df-d43a22ff-bb52-49cf-a6bf-d606ec4cad2d\">\n",
              "  <button class=\"colab-df-quickchart\" onclick=\"quickchart('df-d43a22ff-bb52-49cf-a6bf-d606ec4cad2d')\"\n",
              "            title=\"Suggest charts\"\n",
              "            style=\"display:none;\">\n",
              "\n",
              "<svg xmlns=\"http://www.w3.org/2000/svg\" height=\"24px\"viewBox=\"0 0 24 24\"\n",
              "     width=\"24px\">\n",
              "    <g>\n",
              "        <path d=\"M19 3H5c-1.1 0-2 .9-2 2v14c0 1.1.9 2 2 2h14c1.1 0 2-.9 2-2V5c0-1.1-.9-2-2-2zM9 17H7v-7h2v7zm4 0h-2V7h2v10zm4 0h-2v-4h2v4z\"/>\n",
              "    </g>\n",
              "</svg>\n",
              "  </button>\n",
              "\n",
              "<style>\n",
              "  .colab-df-quickchart {\n",
              "      --bg-color: #E8F0FE;\n",
              "      --fill-color: #1967D2;\n",
              "      --hover-bg-color: #E2EBFA;\n",
              "      --hover-fill-color: #174EA6;\n",
              "      --disabled-fill-color: #AAA;\n",
              "      --disabled-bg-color: #DDD;\n",
              "  }\n",
              "\n",
              "  [theme=dark] .colab-df-quickchart {\n",
              "      --bg-color: #3B4455;\n",
              "      --fill-color: #D2E3FC;\n",
              "      --hover-bg-color: #434B5C;\n",
              "      --hover-fill-color: #FFFFFF;\n",
              "      --disabled-bg-color: #3B4455;\n",
              "      --disabled-fill-color: #666;\n",
              "  }\n",
              "\n",
              "  .colab-df-quickchart {\n",
              "    background-color: var(--bg-color);\n",
              "    border: none;\n",
              "    border-radius: 50%;\n",
              "    cursor: pointer;\n",
              "    display: none;\n",
              "    fill: var(--fill-color);\n",
              "    height: 32px;\n",
              "    padding: 0;\n",
              "    width: 32px;\n",
              "  }\n",
              "\n",
              "  .colab-df-quickchart:hover {\n",
              "    background-color: var(--hover-bg-color);\n",
              "    box-shadow: 0 1px 2px rgba(60, 64, 67, 0.3), 0 1px 3px 1px rgba(60, 64, 67, 0.15);\n",
              "    fill: var(--button-hover-fill-color);\n",
              "  }\n",
              "\n",
              "  .colab-df-quickchart-complete:disabled,\n",
              "  .colab-df-quickchart-complete:disabled:hover {\n",
              "    background-color: var(--disabled-bg-color);\n",
              "    fill: var(--disabled-fill-color);\n",
              "    box-shadow: none;\n",
              "  }\n",
              "\n",
              "  .colab-df-spinner {\n",
              "    border: 2px solid var(--fill-color);\n",
              "    border-color: transparent;\n",
              "    border-bottom-color: var(--fill-color);\n",
              "    animation:\n",
              "      spin 1s steps(1) infinite;\n",
              "  }\n",
              "\n",
              "  @keyframes spin {\n",
              "    0% {\n",
              "      border-color: transparent;\n",
              "      border-bottom-color: var(--fill-color);\n",
              "      border-left-color: var(--fill-color);\n",
              "    }\n",
              "    20% {\n",
              "      border-color: transparent;\n",
              "      border-left-color: var(--fill-color);\n",
              "      border-top-color: var(--fill-color);\n",
              "    }\n",
              "    30% {\n",
              "      border-color: transparent;\n",
              "      border-left-color: var(--fill-color);\n",
              "      border-top-color: var(--fill-color);\n",
              "      border-right-color: var(--fill-color);\n",
              "    }\n",
              "    40% {\n",
              "      border-color: transparent;\n",
              "      border-right-color: var(--fill-color);\n",
              "      border-top-color: var(--fill-color);\n",
              "    }\n",
              "    60% {\n",
              "      border-color: transparent;\n",
              "      border-right-color: var(--fill-color);\n",
              "    }\n",
              "    80% {\n",
              "      border-color: transparent;\n",
              "      border-right-color: var(--fill-color);\n",
              "      border-bottom-color: var(--fill-color);\n",
              "    }\n",
              "    90% {\n",
              "      border-color: transparent;\n",
              "      border-bottom-color: var(--fill-color);\n",
              "    }\n",
              "  }\n",
              "</style>\n",
              "\n",
              "  <script>\n",
              "    async function quickchart(key) {\n",
              "      const quickchartButtonEl =\n",
              "        document.querySelector('#' + key + ' button');\n",
              "      quickchartButtonEl.disabled = true;  // To prevent multiple clicks.\n",
              "      quickchartButtonEl.classList.add('colab-df-spinner');\n",
              "      try {\n",
              "        const charts = await google.colab.kernel.invokeFunction(\n",
              "            'suggestCharts', [key], {});\n",
              "      } catch (error) {\n",
              "        console.error('Error during call to suggestCharts:', error);\n",
              "      }\n",
              "      quickchartButtonEl.classList.remove('colab-df-spinner');\n",
              "      quickchartButtonEl.classList.add('colab-df-quickchart-complete');\n",
              "    }\n",
              "    (() => {\n",
              "      let quickchartButtonEl =\n",
              "        document.querySelector('#df-d43a22ff-bb52-49cf-a6bf-d606ec4cad2d button');\n",
              "      quickchartButtonEl.style.display =\n",
              "        google.colab.kernel.accessAllowed ? 'block' : 'none';\n",
              "    })();\n",
              "  </script>\n",
              "</div>\n",
              "\n",
              "  <div id=\"id_aa53adbb-bc13-4c3a-b40c-08cf4d418e87\">\n",
              "    <style>\n",
              "      .colab-df-generate {\n",
              "        background-color: #E8F0FE;\n",
              "        border: none;\n",
              "        border-radius: 50%;\n",
              "        cursor: pointer;\n",
              "        display: none;\n",
              "        fill: #1967D2;\n",
              "        height: 32px;\n",
              "        padding: 0 0 0 0;\n",
              "        width: 32px;\n",
              "      }\n",
              "\n",
              "      .colab-df-generate:hover {\n",
              "        background-color: #E2EBFA;\n",
              "        box-shadow: 0px 1px 2px rgba(60, 64, 67, 0.3), 0px 1px 3px 1px rgba(60, 64, 67, 0.15);\n",
              "        fill: #174EA6;\n",
              "      }\n",
              "\n",
              "      [theme=dark] .colab-df-generate {\n",
              "        background-color: #3B4455;\n",
              "        fill: #D2E3FC;\n",
              "      }\n",
              "\n",
              "      [theme=dark] .colab-df-generate:hover {\n",
              "        background-color: #434B5C;\n",
              "        box-shadow: 0px 1px 3px 1px rgba(0, 0, 0, 0.15);\n",
              "        filter: drop-shadow(0px 1px 2px rgba(0, 0, 0, 0.3));\n",
              "        fill: #FFFFFF;\n",
              "      }\n",
              "    </style>\n",
              "    <button class=\"colab-df-generate\" onclick=\"generateWithVariable('df')\"\n",
              "            title=\"Generate code using this dataframe.\"\n",
              "            style=\"display:none;\">\n",
              "\n",
              "  <svg xmlns=\"http://www.w3.org/2000/svg\" height=\"24px\"viewBox=\"0 0 24 24\"\n",
              "       width=\"24px\">\n",
              "    <path d=\"M7,19H8.4L18.45,9,17,7.55,7,17.6ZM5,21V16.75L18.45,3.32a2,2,0,0,1,2.83,0l1.4,1.43a1.91,1.91,0,0,1,.58,1.4,1.91,1.91,0,0,1-.58,1.4L9.25,21ZM18.45,9,17,7.55Zm-12,3A5.31,5.31,0,0,0,4.9,8.1,5.31,5.31,0,0,0,1,6.5,5.31,5.31,0,0,0,4.9,4.9,5.31,5.31,0,0,0,6.5,1,5.31,5.31,0,0,0,8.1,4.9,5.31,5.31,0,0,0,12,6.5,5.46,5.46,0,0,0,6.5,12Z\"/>\n",
              "  </svg>\n",
              "    </button>\n",
              "    <script>\n",
              "      (() => {\n",
              "      const buttonEl =\n",
              "        document.querySelector('#id_aa53adbb-bc13-4c3a-b40c-08cf4d418e87 button.colab-df-generate');\n",
              "      buttonEl.style.display =\n",
              "        google.colab.kernel.accessAllowed ? 'block' : 'none';\n",
              "\n",
              "      buttonEl.onclick = () => {\n",
              "        google.colab.notebook.generateWithVariable('df');\n",
              "      }\n",
              "      })();\n",
              "    </script>\n",
              "  </div>\n",
              "\n",
              "    </div>\n",
              "  </div>\n"
            ],
            "application/vnd.google.colaboratory.intrinsic+json": {
              "type": "dataframe",
              "variable_name": "df",
              "summary": "{\n  \"name\": \"df\",\n  \"rows\": 5,\n  \"fields\": [\n    {\n      \"column\": \"A\",\n      \"properties\": {\n        \"dtype\": \"number\",\n        \"std\": 1,\n        \"min\": 0,\n        \"max\": 4,\n        \"num_unique_values\": 4,\n        \"samples\": [\n          2,\n          4,\n          1\n        ],\n        \"semantic_type\": \"\",\n        \"description\": \"\"\n      }\n    },\n    {\n      \"column\": \"B\",\n      \"properties\": {\n        \"dtype\": \"number\",\n        \"std\": 4,\n        \"min\": 0,\n        \"max\": 9,\n        \"num_unique_values\": 4,\n        \"samples\": [\n          0,\n          9,\n          5\n        ],\n        \"semantic_type\": \"\",\n        \"description\": \"\"\n      }\n    }\n  ]\n}"
            }
          },
          "metadata": {},
          "execution_count": 56
        }
      ]
    },
    {
      "cell_type": "code",
      "source": [
        "'''Q26- Access the 3rd element from the given NumPy array\n",
        "arr = np.array([10, 20, 30, 40, 50])'''\n",
        "arr = np.array([10, 20, 30, 40, 50])\n",
        "arr[2]"
      ],
      "metadata": {
        "colab": {
          "base_uri": "https://localhost:8080/"
        },
        "id": "tj28PbQiRkkC",
        "outputId": "0dbcc0e8-c1b1-4aef-df64-d947ee306d2f"
      },
      "execution_count": 57,
      "outputs": [
        {
          "output_type": "execute_result",
          "data": {
            "text/plain": [
              "30"
            ]
          },
          "metadata": {},
          "execution_count": 57
        }
      ]
    },
    {
      "cell_type": "code",
      "source": [
        "'''Q27- Retrieve the element at index (1, 2) from the 2D NumPy array.\n",
        "arr_2d = np.array([[1, 2, 3],\n",
        "                   [4, 5, 6],\n",
        "                   [7, 8, 9]])'''\n",
        "arr_2d = np.array([[1, 2, 3],\n",
        "                   [4, 5, 6],\n",
        "                   [7, 8, 9]])\n",
        "arr_2d[1, 2]"
      ],
      "metadata": {
        "colab": {
          "base_uri": "https://localhost:8080/"
        },
        "id": "BM2ZE2oPTBN3",
        "outputId": "137479eb-3d2d-4154-fe8e-bb5044ee4872"
      },
      "execution_count": 58,
      "outputs": [
        {
          "output_type": "execute_result",
          "data": {
            "text/plain": [
              "6"
            ]
          },
          "metadata": {},
          "execution_count": 58
        }
      ]
    },
    {
      "cell_type": "code",
      "source": [
        "'''Q28-. Using boolean indexing, extract elements greater than 5 from the given NumPy array\n",
        "arr = np.array([3, 8, 2, 10, 5, 7]'''\n",
        "arr = np.array([3, 8, 2, 10, 5, 7])\n",
        "arr[arr > 5]"
      ],
      "metadata": {
        "colab": {
          "base_uri": "https://localhost:8080/"
        },
        "id": "JK_R4yZUTdoS",
        "outputId": "fa9b75d9-f782-4a35-db75-493e97884efe"
      },
      "execution_count": 59,
      "outputs": [
        {
          "output_type": "execute_result",
          "data": {
            "text/plain": [
              "array([ 8, 10,  7])"
            ]
          },
          "metadata": {},
          "execution_count": 59
        }
      ]
    },
    {
      "cell_type": "code",
      "source": [
        "'''Q29-Perform basic slicing to extract elements from index 2 to 5 (inclusive) from the given NumPy array\n",
        "arr = np.array([1, 2, 3, 4, 5, 6, 7, 8, 9])'''\n",
        "arr = np.array([1, 2, 3, 4, 5, 6, 7, 8, 9])\n",
        "arr[2:6]"
      ],
      "metadata": {
        "colab": {
          "base_uri": "https://localhost:8080/"
        },
        "id": "X1z1SOqlUavc",
        "outputId": "2f58eaac-1386-445a-ab84-d736814ce1d1"
      },
      "execution_count": 60,
      "outputs": [
        {
          "output_type": "execute_result",
          "data": {
            "text/plain": [
              "array([3, 4, 5, 6])"
            ]
          },
          "metadata": {},
          "execution_count": 60
        }
      ]
    },
    {
      "cell_type": "code",
      "source": [
        "'''Q30-Slice the 2D NumPy array to extract the sub-array `[[2, 3], [5, 6]]` from the given array.\n",
        "arr_2d = np.array([[1, 2, 3],\n",
        "                   [4, 5, 6],\n",
        "                   [7, 8, 9]])'''\n",
        "arr_2d = np.array([[1, 2, 3],\n",
        "                   [4, 5, 6],\n",
        "                   [7, 8, 9]])\n",
        "sub_array = arr_2d[0:2, 1:]\n",
        "sub_array"
      ],
      "metadata": {
        "colab": {
          "base_uri": "https://localhost:8080/"
        },
        "id": "OPBTcKbyU0nB",
        "outputId": "95d9262a-3336-46f5-eba5-0d955bc57bf0"
      },
      "execution_count": 61,
      "outputs": [
        {
          "output_type": "execute_result",
          "data": {
            "text/plain": [
              "array([[2, 3],\n",
              "       [5, 6]])"
            ]
          },
          "metadata": {},
          "execution_count": 61
        }
      ]
    },
    {
      "cell_type": "code",
      "source": [
        "'''Q31-.Write a NumPy function to extract elements in specific order from a given 2D array based on indices\n",
        "provided in another array.'''\n",
        "def extract_elements_by_indices(arr_2D, indices):\n",
        "    return arr_2D.ravel()[indices]\n",
        "arr_2D = np.array([[1, 2, 3],\n",
        "                   [4, 5, 6],\n",
        "                   [7, 8, 9]])\n",
        "indices = np.array([1, 4, 2, 5, 7])\n",
        "extract_elements_by_indices(arr_2D, indices)"
      ],
      "metadata": {
        "colab": {
          "base_uri": "https://localhost:8080/"
        },
        "id": "DH5O9-FTXYQA",
        "outputId": "6aa85e65-2ecb-47ff-d286-9792bde169a7"
      },
      "execution_count": 62,
      "outputs": [
        {
          "output_type": "execute_result",
          "data": {
            "text/plain": [
              "array([2, 5, 3, 6, 8])"
            ]
          },
          "metadata": {},
          "execution_count": 62
        }
      ]
    },
    {
      "cell_type": "code",
      "source": [
        "'''Q32- Create a NumPy function that filters elements greater than a threshold from a given 1D array using\n",
        "boolean indexing.'''\n",
        "def filter_elements_greater_than_threshold(arr, threshold):\n",
        "    return arr[arr > threshold]\n",
        "\n",
        "arr = np.array([1, 2, 3, 4, 5, 6, 7, 8, 9])\n",
        "threshold = 5\n",
        "filter_elements_greater_than_threshold(arr, threshold)"
      ],
      "metadata": {
        "colab": {
          "base_uri": "https://localhost:8080/"
        },
        "id": "ejgF7jK7YKPe",
        "outputId": "ed12a015-bf34-42e1-b6c9-d591f01dd37d"
      },
      "execution_count": 63,
      "outputs": [
        {
          "output_type": "execute_result",
          "data": {
            "text/plain": [
              "array([6, 7, 8, 9])"
            ]
          },
          "metadata": {},
          "execution_count": 63
        }
      ]
    },
    {
      "cell_type": "code",
      "source": [
        "'''33- Develop a NumPy function that extracts specific elements from a 3D array using indices provided in three\n",
        "separate arrays for each dimension'''\n",
        "def extract_elements_3d(array, indices_dim1, indices_dim2, indices_dim3):\n",
        "   indices = (indices_dim1, indices_dim2, indices_dim3)\n",
        "   extracted_elements = array[indices]\n",
        "   return extracted_elements\n",
        "arr_3d = np.array([[[1, 2, 3], [4, 5, 6]], [[7, 8, 9], [10, 11, 12]]])\n",
        "indices_dim1 = np.array([0, 1])\n",
        "indices_dim2 = np.array([0, 1])\n",
        "indices_dim3 = np.array([1, 2])\n",
        "extract_elements_3d(arr_3d, indices_dim1, indices_dim2, indices_dim3)"
      ],
      "metadata": {
        "colab": {
          "base_uri": "https://localhost:8080/"
        },
        "id": "3nCqX2LpZBR5",
        "outputId": "9d1703c6-b465-4281-dc65-eada48dab7a1"
      },
      "execution_count": 64,
      "outputs": [
        {
          "output_type": "execute_result",
          "data": {
            "text/plain": [
              "array([ 2, 12])"
            ]
          },
          "metadata": {},
          "execution_count": 64
        }
      ]
    },
    {
      "cell_type": "code",
      "source": [
        "'''Q34-Write a NumPy function that returns elements from an array where both two conditions are satisfied\n",
        "using boolean indexing'''\n",
        "def elements_satisfying_conditions(arr, condition1, condition2):\n",
        "    return arr[np.logical_and(condition1, condition2)]\n",
        "arr = np.array([1, 2, 3, 4, 5, 6, 7, 8, 9,12,32,64])\n",
        "condition1 = arr > 3\n",
        "condition2 = arr % 2 == 0\n",
        "elements_satisfying_conditions(arr, condition1, condition2)"
      ],
      "metadata": {
        "colab": {
          "base_uri": "https://localhost:8080/"
        },
        "id": "NmhirG6daM86",
        "outputId": "865ec701-5872-4c3c-952b-97b7a9cf0dfb"
      },
      "execution_count": 65,
      "outputs": [
        {
          "output_type": "execute_result",
          "data": {
            "text/plain": [
              "array([ 4,  6,  8, 12, 32, 64])"
            ]
          },
          "metadata": {},
          "execution_count": 65
        }
      ]
    },
    {
      "cell_type": "code",
      "source": [
        "'''Q35- Create a NumPy function that extracts elements from a 2D array using row and column indices provided\n",
        "in separate arrays'''\n",
        "def extract_elements_2d(array, row_indices, col_indices):\n",
        "  arr=array[row_indices, col_indices]\n",
        "  return arr\n",
        "arr_2d = np.array([[1, 2, 3],\n",
        "                    [4, 5, 6],\n",
        "                    [7, 8, 9]])\n",
        "row_indices = np.array([0,1,2])\n",
        "col_indices = np.array([1,2,0])\n",
        "extract_elements_2d(arr_2d, row_indices, col_indices)"
      ],
      "metadata": {
        "colab": {
          "base_uri": "https://localhost:8080/"
        },
        "id": "7znAQCcabg_z",
        "outputId": "6344090a-6e32-443a-aa5f-8711261b5eac"
      },
      "execution_count": 66,
      "outputs": [
        {
          "output_type": "execute_result",
          "data": {
            "text/plain": [
              "array([2, 6, 7])"
            ]
          },
          "metadata": {},
          "execution_count": 66
        }
      ]
    },
    {
      "cell_type": "code",
      "source": [
        "arr_2d = np.array([[1, 2, 3],\n",
        "                    [4, 5, 6],\n",
        "                    [7, 8, 9]])"
      ],
      "metadata": {
        "id": "togugGLLkJrn"
      },
      "execution_count": 67,
      "outputs": []
    },
    {
      "cell_type": "code",
      "source": [
        "'''Q36-Given an array arr of shape (3, 3), add a scalar value of 5 to each element using NumPy broadcasting.'''\n",
        "arr = np.array([[1, 2, 3],\n",
        "                [4, 5, 6],\n",
        "                [7, 8, 9]])\n",
        "arr1=arr+5\n",
        "arr1"
      ],
      "metadata": {
        "colab": {
          "base_uri": "https://localhost:8080/"
        },
        "id": "eX_AKpvtmc4M",
        "outputId": "01ceb7ea-6f37-4613-84d9-6d13f5ca671a"
      },
      "execution_count": 68,
      "outputs": [
        {
          "output_type": "execute_result",
          "data": {
            "text/plain": [
              "array([[ 6,  7,  8],\n",
              "       [ 9, 10, 11],\n",
              "       [12, 13, 14]])"
            ]
          },
          "metadata": {},
          "execution_count": 68
        }
      ]
    },
    {
      "cell_type": "code",
      "source": [
        "'''Q37-Consider two arrays arr1 of shape (1, 3) and arr2 of shape (3, 4). Multiply each row of arr2 by the\n",
        "corresponding element in arr1 using NumPy broadcasting'''\n",
        "arr1=np.array([[1,2,3]])\n",
        "arr2=np.array([[1,2,3,4],\n",
        "               [4,5,6,7],\n",
        "               [5,6,7,8]])\n",
        "arr_multi=arr1.T *arr2\n",
        "arr_multi"
      ],
      "metadata": {
        "colab": {
          "base_uri": "https://localhost:8080/"
        },
        "id": "rPqO0VJsoNF-",
        "outputId": "95b6ec5f-af30-4404-8af1-981b50a76896"
      },
      "execution_count": 69,
      "outputs": [
        {
          "output_type": "execute_result",
          "data": {
            "text/plain": [
              "array([[ 1,  2,  3,  4],\n",
              "       [ 8, 10, 12, 14],\n",
              "       [15, 18, 21, 24]])"
            ]
          },
          "metadata": {},
          "execution_count": 69
        }
      ]
    },
    {
      "cell_type": "code",
      "source": [
        "'''Q38- Given a 1D array arr1 of shape (1, 4) and a 2D array arr2 of shape (4, 3), add arr1 to each row of arr2 using\n",
        "NumPy broadcasting.'''\n",
        "arr1 = np.array([[1, 2, 3, 4]])\n",
        "arr2 = np.array([[1, 2, 3],\n",
        "                 [4, 5, 6],\n",
        "                 [7, 8, 9],\n",
        "                 [10, 11, 12]])\n",
        "arr_add=arr1.T+arr2\n",
        "arr_add"
      ],
      "metadata": {
        "colab": {
          "base_uri": "https://localhost:8080/"
        },
        "id": "B0u82gSuokkL",
        "outputId": "e4e0abba-e4b9-49cd-f83c-172b7678298d"
      },
      "execution_count": 70,
      "outputs": [
        {
          "output_type": "execute_result",
          "data": {
            "text/plain": [
              "array([[ 2,  3,  4],\n",
              "       [ 6,  7,  8],\n",
              "       [10, 11, 12],\n",
              "       [14, 15, 16]])"
            ]
          },
          "metadata": {},
          "execution_count": 70
        }
      ]
    },
    {
      "cell_type": "code",
      "source": [
        "'''Q39-Consider two arrays arr1 of shape (3, 1) and arr2 of shape (1, 3). Add these arrays using NumPy\n",
        "broadcasting'''\n",
        "arr2 = np.array([[1, 2, 3]])\n",
        "arr1 = np.array([[1],\n",
        "                 [4],\n",
        "                 [7]])\n",
        "arr_add=arr1+arr2\n",
        "arr_add\n"
      ],
      "metadata": {
        "colab": {
          "base_uri": "https://localhost:8080/"
        },
        "id": "Lr1i4mxTs02n",
        "outputId": "3cb5e132-2f60-4875-87b8-be080b1f7fa4"
      },
      "execution_count": 71,
      "outputs": [
        {
          "output_type": "execute_result",
          "data": {
            "text/plain": [
              "array([[ 2,  3,  4],\n",
              "       [ 5,  6,  7],\n",
              "       [ 8,  9, 10]])"
            ]
          },
          "metadata": {},
          "execution_count": 71
        }
      ]
    },
    {
      "cell_type": "code",
      "source": [
        "'''Q40-Given arrays arr1 of shape (2, 3) and arr2 of shape (2, 2), perform multiplication using NumPy\n",
        "broadcasting. Handle the shape incompatibility.'''\n",
        "arr1 = np.array([[1, 2, 3],\n",
        "                 [4, 5, 6]])\n",
        "arr2 = np.array([[1, 4],\n",
        "                 [4, 6]])\n",
        "arr2_reshaped = arr2[:,:, np.newaxis]\n",
        "arr_multi=arr2*arr2_reshaped\n",
        "arr_multi"
      ],
      "metadata": {
        "colab": {
          "base_uri": "https://localhost:8080/"
        },
        "id": "XXiZktOltJxV",
        "outputId": "6208ffc2-3248-4532-e934-8723a902ebc1"
      },
      "execution_count": 72,
      "outputs": [
        {
          "output_type": "execute_result",
          "data": {
            "text/plain": [
              "array([[[ 1,  4],\n",
              "        [16, 24]],\n",
              "\n",
              "       [[ 4, 16],\n",
              "        [24, 36]]])"
            ]
          },
          "metadata": {},
          "execution_count": 72
        }
      ]
    },
    {
      "cell_type": "code",
      "source": [
        "'''41- Calculate column wise mean for the given array\n",
        "arr = np.array([[1, 2, 3], [4, 5, 6]])'''\n",
        "arr = np.array([[1, 2, 3], [4, 5, 6]])\n",
        "column_mean = np.mean(arr, axis=0)\n",
        "column_mean"
      ],
      "metadata": {
        "colab": {
          "base_uri": "https://localhost:8080/"
        },
        "id": "W2uicstVtoUQ",
        "outputId": "d3a7b143-5eea-4781-9709-b6266c078d84"
      },
      "execution_count": 73,
      "outputs": [
        {
          "output_type": "execute_result",
          "data": {
            "text/plain": [
              "array([2.5, 3.5, 4.5])"
            ]
          },
          "metadata": {},
          "execution_count": 73
        }
      ]
    },
    {
      "cell_type": "code",
      "source": [
        "'''Q42-Find maximum value in each row of the given array\n",
        "arr = np.array([[1, 2, 3], [4, 5, 6]])'''\n",
        "arr = np.array([[1, 2, 3], [4, 5, 6]])\n",
        "arr_max=np.max(arr,axis=1)\n",
        "arr_max"
      ],
      "metadata": {
        "colab": {
          "base_uri": "https://localhost:8080/"
        },
        "id": "kD7IAYdIxj3m",
        "outputId": "c836fee2-3190-4195-f740-01524ba3c4e9"
      },
      "execution_count": 74,
      "outputs": [
        {
          "output_type": "execute_result",
          "data": {
            "text/plain": [
              "array([3, 6])"
            ]
          },
          "metadata": {},
          "execution_count": 74
        }
      ]
    },
    {
      "cell_type": "code",
      "source": [
        "'''Q43- For the given array, find indices of maximum value in each column\n",
        "arr = np.array([[1, 2, 3], [4, 5, 6]])'''\n",
        "arr = np.array([[1, 2, 3], [4, 5, 6]])\n",
        "max_indices = np.argmax(arr, axis=0)\n",
        "max_indices"
      ],
      "metadata": {
        "colab": {
          "base_uri": "https://localhost:8080/"
        },
        "id": "pS_4kyUAyAEJ",
        "outputId": "9de44073-e027-40ac-fee6-f5107dd3094e"
      },
      "execution_count": 75,
      "outputs": [
        {
          "output_type": "execute_result",
          "data": {
            "text/plain": [
              "array([1, 1, 1])"
            ]
          },
          "metadata": {},
          "execution_count": 75
        }
      ]
    },
    {
      "cell_type": "code",
      "source": [
        "'''Q44-For the given array, apply custom function to calculate moving sum along rows\n",
        "arr = np.array([[1, 2, 3], [4, 5, 6]])'''\n",
        "arr = np.array([[1, 2, 3], [4, 5, 6]])\n",
        "arr_max1=np.cumsum(arr,axis=0)\n",
        "arr_max1"
      ],
      "metadata": {
        "colab": {
          "base_uri": "https://localhost:8080/"
        },
        "id": "3B7DSTZCzAuu",
        "outputId": "6a01a5c8-98f1-40a7-eacc-c036c0aee7c7"
      },
      "execution_count": 76,
      "outputs": [
        {
          "output_type": "execute_result",
          "data": {
            "text/plain": [
              "array([[1, 2, 3],\n",
              "       [5, 7, 9]])"
            ]
          },
          "metadata": {},
          "execution_count": 76
        }
      ]
    },
    {
      "cell_type": "code",
      "source": [
        "''' Q45-In the given array, check if all elements in each column are even\n",
        "arr = np.array([[2, 4, 6], [3, 5, 7]])'''\n",
        "arr = np.array([[2, 4, 6], [3, 5, 7]])\n",
        "arr_even=[arr%2==0]\n",
        "arr_even"
      ],
      "metadata": {
        "colab": {
          "base_uri": "https://localhost:8080/"
        },
        "id": "L7WcY_Z3zmIN",
        "outputId": "ac793e77-c5c3-4c83-fc7c-607bba61673a"
      },
      "execution_count": 77,
      "outputs": [
        {
          "output_type": "execute_result",
          "data": {
            "text/plain": [
              "[array([[ True,  True,  True],\n",
              "        [False, False, False]])]"
            ]
          },
          "metadata": {},
          "execution_count": 77
        }
      ]
    },
    {
      "cell_type": "code",
      "source": [
        "'''Q46-Given a NumPy array arr, reshape it into a matrix of dimensions `m` rows and `n` columns. Return the\n",
        "reshaped matrix-original_array = np.array([1, 2, 3, 4, 5, 6])'''\n",
        "original_array = np.array([1, 2, 3, 4, 5, 6])\n",
        "reshaped_matrix = np.matrix(original_array.reshape(3,2))\n",
        "reshaped_matrix"
      ],
      "metadata": {
        "colab": {
          "base_uri": "https://localhost:8080/"
        },
        "id": "6uiBZ9sgoSPO",
        "outputId": "ea9e454e-48cb-4315-9cae-12734095636c"
      },
      "execution_count": 78,
      "outputs": [
        {
          "output_type": "execute_result",
          "data": {
            "text/plain": [
              "matrix([[1, 2],\n",
              "        [3, 4],\n",
              "        [5, 6]])"
            ]
          },
          "metadata": {},
          "execution_count": 78
        }
      ]
    },
    {
      "cell_type": "code",
      "source": [
        "'''Q47- Create a function that takes a matrix as input and returns the flattened array input_matrix = np.array([[1, 2, 3], [4, 5, 6]])'''\n",
        "def flatten_matrix(input_matrix):\n",
        "    arr=input_matrix.flatten()\n",
        "    return arr\n",
        "input_matrix = np.array([[1, 2, 3], [4, 5, 6]])\n",
        "flattern_M=input_matrix.flatten()\n",
        "flattern_M\n"
      ],
      "metadata": {
        "colab": {
          "base_uri": "https://localhost:8080/"
        },
        "id": "H6mtjEiMo4jB",
        "outputId": "4b5049bd-20d4-4051-b81a-8a2d08a4fd58"
      },
      "execution_count": 81,
      "outputs": [
        {
          "output_type": "execute_result",
          "data": {
            "text/plain": [
              "array([1, 2, 3, 4, 5, 6])"
            ]
          },
          "metadata": {},
          "execution_count": 81
        }
      ]
    },
    {
      "cell_type": "code",
      "source": [
        "'''Q48- Write a function that concatenates two given arrays along a specified axis.\n",
        "array1 = np.array([[1, 2], [3, 4]])\n",
        "array2 = np.array([[5, 6], [7, 8]])'''\n",
        "def concatenate_arrays(array1, array2, axis):\n",
        "  arr=np.concatenate((array1, array2), axis=axis)\n",
        "  return arr\n",
        "array1 = np.array([[1, 2], [3, 4]])\n",
        "array2 = np.array([[5, 6], [7, 8]])\n",
        "concatenate_arrays(array1, array2, axis=1)\n"
      ],
      "metadata": {
        "colab": {
          "base_uri": "https://localhost:8080/"
        },
        "id": "Mx96E0HirCq8",
        "outputId": "05488914-0ec7-4e63-fe71-9020286b2afd"
      },
      "execution_count": 82,
      "outputs": [
        {
          "output_type": "execute_result",
          "data": {
            "text/plain": [
              "array([[1, 2, 5, 6],\n",
              "       [3, 4, 7, 8]])"
            ]
          },
          "metadata": {},
          "execution_count": 82
        }
      ]
    },
    {
      "cell_type": "code",
      "source": [
        "'''Q49- Create a function that splits an array into multiple sub-arrays along a specified axis. original_array = np.array([[1, 2, 3], [4, 5, 6], [7, 8, 9]])'''\n",
        "def split_array(original_array, num, axis):\n",
        "  arr=np.split(original_array, num, axis=axis)\n",
        "  return arr\n",
        "original_array = np.array([[1, 2, 3], [4, 5, 6], [7, 8, 9]])\n",
        "split_q=np.split(original_array,3,axis=1)\n",
        "split_q\n"
      ],
      "metadata": {
        "colab": {
          "base_uri": "https://localhost:8080/"
        },
        "id": "7uBZkgNHsW7v",
        "outputId": "f0121a3d-f909-4d13-e2d1-fb131ec91178"
      },
      "execution_count": 83,
      "outputs": [
        {
          "output_type": "execute_result",
          "data": {
            "text/plain": [
              "[array([[1],\n",
              "        [4],\n",
              "        [7]]),\n",
              " array([[2],\n",
              "        [5],\n",
              "        [8]]),\n",
              " array([[3],\n",
              "        [6],\n",
              "        [9]])]"
            ]
          },
          "metadata": {},
          "execution_count": 83
        }
      ]
    },
    {
      "cell_type": "code",
      "source": [
        "'''Q50-Write a function that inserts and then deletes elements from a given array at specified indices.\n",
        "original_array = np.array([1, 2, 3, 4, 5])\n",
        "indices_to_insert = [2, 4]\n",
        "values_to_insert = [10, 11]\n",
        "indices_to_delete = [1, 3]\n",
        "'''\n",
        "def insert_and_delete(original_array, indices_to_insert, values_to_insert, indices_to_delete):\n",
        "    array_list = original_array.tolist()\n",
        "    sorted_inserts = sorted(zip(indices_to_insert, values_to_insert))\n",
        "    offset = 0\n",
        "    for index, value in sorted_inserts:\n",
        "        array_list.insert(index + offset, value)\n",
        "        offset += 1\n",
        "\n",
        "    modified_array = np.array(array_list)\n",
        "\n",
        "    sorted_deletes = sorted(indices_to_delete, reverse=True)\n",
        "\n",
        "\n",
        "    for index in sorted_deletes:\n",
        "        modified_array = np.delete(modified_array, index)\n",
        "\n",
        "    return modified_array\n",
        "\n",
        "original_array = np.array([1, 2, 3, 4, 5])\n",
        "indices_to_insert = [2, 4]\n",
        "values_to_insert = [10, 11]\n",
        "indices_to_delete = [1, 3]\n",
        "\n",
        "result_array = insert_and_delete(original_array, indices_to_insert, values_to_insert, indices_to_delete)\n",
        "print(result_array)"
      ],
      "metadata": {
        "colab": {
          "base_uri": "https://localhost:8080/"
        },
        "id": "XZ-WX0u8w7v5",
        "outputId": "f65f5706-a7d3-483e-fa6c-dccd4d6d8d8c"
      },
      "execution_count": 84,
      "outputs": [
        {
          "output_type": "stream",
          "name": "stdout",
          "text": [
            "[ 1 10  4 11  5]\n"
          ]
        }
      ]
    },
    {
      "cell_type": "code",
      "source": [
        "'''Q51-Create a NumPy array `arr1` with random integers and another array `arr2` with integers from 1 to 10.\n",
        "Perform element-wise addition between `arr1` and `arr2`'''\n",
        "arr1=np.random.randint(0,99,10)\n",
        "arr2=np.arange(1,11)\n",
        "arr_add=arr1+arr2\n",
        "arr_add"
      ],
      "metadata": {
        "colab": {
          "base_uri": "https://localhost:8080/"
        },
        "id": "XZ_rZecXzB-C",
        "outputId": "26a9d450-bca1-4cd9-ce3f-9fd335c31f39"
      },
      "execution_count": 85,
      "outputs": [
        {
          "output_type": "execute_result",
          "data": {
            "text/plain": [
              "array([53,  3, 90, 33, 42,  7, 70, 67, 29, 42])"
            ]
          },
          "metadata": {},
          "execution_count": 85
        }
      ]
    },
    {
      "cell_type": "code",
      "source": [
        "'''Q52-Generate a NumPy array `arr1` with sequential integers from 10 to 1 and another array `arr2` with integers\n",
        "from 1 to 10. Subtract `arr2` from `arr1` element-wise'''\n",
        "arr1=np.arange(10,0,-1)\n",
        "arr2=np.arange(1,11)\n",
        "arr_sub=arr1-arr2\n",
        "arr_sub"
      ],
      "metadata": {
        "colab": {
          "base_uri": "https://localhost:8080/"
        },
        "id": "R2vIMBlQ0tA8",
        "outputId": "be76efe1-81a2-4a2e-f213-90296077464c"
      },
      "execution_count": 86,
      "outputs": [
        {
          "output_type": "execute_result",
          "data": {
            "text/plain": [
              "array([ 9,  7,  5,  3,  1, -1, -3, -5, -7, -9])"
            ]
          },
          "metadata": {},
          "execution_count": 86
        }
      ]
    },
    {
      "cell_type": "code",
      "source": [
        "'''Q53- Create a NumPy array `arr1` with random integers and another array `arr2` with integers from 1 to 5.\n",
        "Perform element-wise multiplication between `arr1` and `arr2`'''\n",
        "arr1=np.random.randint(0,99,5)\n",
        "arr2=np.arange(1,6)\n",
        "arr=np.multiply(arr1,arr2)\n",
        "arr"
      ],
      "metadata": {
        "colab": {
          "base_uri": "https://localhost:8080/"
        },
        "id": "oztnkZw32wgU",
        "outputId": "ce982aaa-18fc-4b12-de01-2e45daa86d71"
      },
      "execution_count": 87,
      "outputs": [
        {
          "output_type": "execute_result",
          "data": {
            "text/plain": [
              "array([ 75, 114,  63, 352, 240])"
            ]
          },
          "metadata": {},
          "execution_count": 87
        }
      ]
    },
    {
      "cell_type": "code",
      "source": [
        "'''Q54-. Generate a NumPy array `arr1` with even integers from 2 to 10 and another array `arr2` with integers from 1\n",
        "to 5. Perform element-wise division of `arr1` by `arr2`'''\n",
        "arr1=np.arange(2,11,2)\n",
        "arr2=np.arange(1,6)\n",
        "arr_devision=arr1/arr2\n",
        "arr_devision"
      ],
      "metadata": {
        "colab": {
          "base_uri": "https://localhost:8080/"
        },
        "id": "Qhomtsjb3Au5",
        "outputId": "b513b997-16e8-4880-bf51-0ffd8cd5e830"
      },
      "execution_count": 88,
      "outputs": [
        {
          "output_type": "execute_result",
          "data": {
            "text/plain": [
              "array([2., 2., 2., 2., 2.])"
            ]
          },
          "metadata": {},
          "execution_count": 88
        }
      ]
    },
    {
      "cell_type": "code",
      "source": [
        "'''Q55- Create a NumPy array `arr1` with integers from 1 to 5 and another array `arr2` with the same numbers\n",
        "reversed. Calculate the exponentiation of `arr1` raised to the power of `arr2` element-wise'''\n",
        "arr1=np.arange(1,6)\n",
        "arr2=arr1[::-1]\n",
        "arr_power=np.power(arr1,arr2)\n",
        "arr_power"
      ],
      "metadata": {
        "colab": {
          "base_uri": "https://localhost:8080/"
        },
        "id": "QZx4TQHF4dOc",
        "outputId": "da294079-6ea0-4e3a-f94c-b88a7c815cc8"
      },
      "execution_count": 89,
      "outputs": [
        {
          "output_type": "execute_result",
          "data": {
            "text/plain": [
              "array([ 1, 16, 27, 16,  5])"
            ]
          },
          "metadata": {},
          "execution_count": 89
        }
      ]
    },
    {
      "cell_type": "code",
      "source": [
        "'''Q56- Write a function that counts the occurrences of a specific substring within a NumPy array of strings\n",
        "arr = np.array(['hello', 'world', 'hello', 'numpy', 'hello'])'''\n",
        "arr = np.array(['hello', 'world', 'hello', 'numpy', 'hello'])\n",
        "def count_substring_occurrences(arr, substring):\n",
        "    count = np.char.count(arr, substring)\n",
        "    total_count = np.sum(count)\n",
        "    return total_count\n",
        "arr=np.array(['hello', 'world', 'hello', 'numpy', 'hello'])\n",
        "substring = 'hello'\n",
        "count_substring_occurrences(arr, substring)"
      ],
      "metadata": {
        "id": "wT2eTox9__T8",
        "colab": {
          "base_uri": "https://localhost:8080/"
        },
        "outputId": "cb574a25-9937-420b-f9bb-39995838b48f"
      },
      "execution_count": 96,
      "outputs": [
        {
          "output_type": "execute_result",
          "data": {
            "text/plain": [
              "3"
            ]
          },
          "metadata": {},
          "execution_count": 96
        }
      ]
    },
    {
      "cell_type": "code",
      "source": [
        "'''Q57-Write a function that extracts uppercase characters from a NumPy array of strings.\n",
        "\n",
        "arr = np.array(['Hello', 'World', 'OpenAI', 'GPT'])'''\n",
        "def extract_uppercase_characters(arr):\n",
        "    arr= [char for string in arr for char in string if char.isupper()]\n",
        "    return arr\n",
        "arr = np.array(['Hello', 'World', 'OpenAI', 'GPT'])\n",
        "extract_uppercase_characters(arr)"
      ],
      "metadata": {
        "colab": {
          "base_uri": "https://localhost:8080/"
        },
        "id": "nKW1j19KN6rK",
        "outputId": "ec1d71a1-e659-48ab-b319-ab6d2f67081f"
      },
      "execution_count": 106,
      "outputs": [
        {
          "output_type": "execute_result",
          "data": {
            "text/plain": [
              "['H', 'W', 'O', 'A', 'I', 'G', 'P', 'T']"
            ]
          },
          "metadata": {},
          "execution_count": 106
        }
      ]
    },
    {
      "cell_type": "code",
      "source": [
        "'''Q58-Write a function that replaces occurrences of a substring in a NumPy array of strings with a new string.\n",
        "arr = np.array(['apple', 'banana', 'grape', 'pineapple'])'''\n",
        "def replace_substring(arr, old_substring, new_substring):\n",
        "  arr=np.char.replace(arr, old_substring, new_substring)\n",
        "  return arr\n",
        "arr = np.array(['apple', 'banana', 'grape', 'pineapple'])\n",
        "old_substring = 'apple'\n",
        "new_substring = 'orange'\n",
        "print(replace_substring(arr, old_substring, new_substring))"
      ],
      "metadata": {
        "colab": {
          "base_uri": "https://localhost:8080/"
        },
        "id": "BdZT0d_6SJfq",
        "outputId": "49bd2a0c-548e-4583-9c91-b2f5686b1c43"
      },
      "execution_count": 105,
      "outputs": [
        {
          "output_type": "stream",
          "name": "stdout",
          "text": [
            "['orange' 'banana' 'grape' 'pineorange']\n"
          ]
        }
      ]
    },
    {
      "cell_type": "code",
      "source": [
        "'''Q59-. Write a function that concatenates strings in a NumPy array element-wise\n",
        "arr1 = np.array(['Hello', 'World'])\n",
        "arr2 = np.array(['Open', 'AI'])'''\n",
        "\n",
        "def concatenate_arrays(arr1, arr2, axis):\n",
        "  arr=np.concatenate((arr1, arr2), axis=axis)\n",
        "  return arr\n",
        "arr1 = np.array(['Hello', 'World'])\n",
        "arr2 = np.array(['Open', 'AI'])\n",
        "print(concatenate_arrays(arr1, arr2, axis=0))"
      ],
      "metadata": {
        "colab": {
          "base_uri": "https://localhost:8080/"
        },
        "id": "09XNF62yTmkW",
        "outputId": "54699b9d-d720-407a-f535-6267fb938f6a"
      },
      "execution_count": 116,
      "outputs": [
        {
          "output_type": "stream",
          "name": "stdout",
          "text": [
            "['Hello' 'World' 'Open' 'AI']\n"
          ]
        }
      ]
    },
    {
      "cell_type": "code",
      "source": [
        "'''Q60-Write a function that finds the length of the longest string in a NumPy array.\n",
        "\n",
        "arr = np.array(['apple', 'banana', 'grape', 'pineapple'])'''\n",
        "def longest_string_length(arr):\n",
        "  arr=max(len(s) for s in arr)\n",
        "  return arr\n",
        "arr1 = np.array(['apple', 'banana', 'grape', 'pineapple'])\n",
        "longest_string_length(arr1)"
      ],
      "metadata": {
        "colab": {
          "base_uri": "https://localhost:8080/"
        },
        "id": "gai1m09XVVM2",
        "outputId": "a6fb525f-2b30-41b8-a940-1f5e252e92f7"
      },
      "execution_count": 121,
      "outputs": [
        {
          "output_type": "execute_result",
          "data": {
            "text/plain": [
              "9"
            ]
          },
          "metadata": {},
          "execution_count": 121
        }
      ]
    },
    {
      "cell_type": "code",
      "source": [
        "'''Q61-Create a dataset of 100 random integers between 1 and 1000. Compute the mean, median, variance, and\n",
        "standard deviation of the dataset using NumPy's functions.'''\n",
        "dataset = np.random.randint(1, 1001, 100)\n",
        "mean=np.mean(dataset)\n",
        "print(mean)\n",
        "Median=np.median(dataset)\n",
        "print(Median)\n",
        "variance=np.var(dataset)\n",
        "print(variance)\n",
        "std=np.std(dataset)\n",
        "print(std)"
      ],
      "metadata": {
        "colab": {
          "base_uri": "https://localhost:8080/"
        },
        "id": "HR8V418oWeCP",
        "outputId": "6ce2a4b9-7194-43ba-c71f-316f6be2ca4a"
      },
      "execution_count": 133,
      "outputs": [
        {
          "output_type": "stream",
          "name": "stdout",
          "text": [
            "483.16\n",
            "516.5\n",
            "93131.5744\n",
            "305.17466211990796\n"
          ]
        }
      ]
    },
    {
      "cell_type": "code",
      "source": [
        "'''Q62-Generate an array of 50 random numbers between 1 and 100. Find the 25th and 75th percentiles of the\n",
        "dataset.'''\n",
        "arr=np.random.randint(1,101,50)\n",
        "arr_2=np.percentile(arr,[25,75])\n",
        "arr_2"
      ],
      "metadata": {
        "colab": {
          "base_uri": "https://localhost:8080/"
        },
        "id": "Ch5u40jcYuU2",
        "outputId": "c392abfa-abee-488b-937e-ab31d59e06dc"
      },
      "execution_count": 140,
      "outputs": [
        {
          "output_type": "execute_result",
          "data": {
            "text/plain": [
              "array([30.  , 81.75])"
            ]
          },
          "metadata": {},
          "execution_count": 140
        }
      ]
    },
    {
      "cell_type": "code",
      "source": [
        "'''Q63-Create two arrays representing two sets of variables. Compute the correlation coefficient between these\n",
        "arrays using NumPy's `corrcoef` function.'''\n",
        "arr1=np.random.randint(1,101,50)\n",
        "arr2=np.random.randint(1,101,50)\n",
        "arr3=np.corrcoef(arr1, arr2)\n",
        "arr3"
      ],
      "metadata": {
        "colab": {
          "base_uri": "https://localhost:8080/"
        },
        "id": "eynnk2O_bB76",
        "outputId": "8bbebe17-de10-4955-cf72-6d299c1bbda0"
      },
      "execution_count": 146,
      "outputs": [
        {
          "output_type": "execute_result",
          "data": {
            "text/plain": [
              "array([[1.        , 0.07080891],\n",
              "       [0.07080891, 1.        ]])"
            ]
          },
          "metadata": {},
          "execution_count": 146
        }
      ]
    },
    {
      "cell_type": "code",
      "source": [
        "'''Q64-Create two matrices and perform matrix multiplication using NumPy's `dot` function'''\n",
        "matrix1 = np.array([[1, 2, 3],\n",
        "                    [4, 5, 6]])\n",
        "matrix2 = np.array([[7, 8],\n",
        "                    [9, 10],\n",
        "                    [11, 12]])\n",
        "M_dot=np.dot(matrix1,matrix2)\n",
        "M_dot"
      ],
      "metadata": {
        "colab": {
          "base_uri": "https://localhost:8080/"
        },
        "id": "c9WL_r5Ab78l",
        "outputId": "3de416cd-7154-4fcc-ab11-3b0a62574814"
      },
      "execution_count": 148,
      "outputs": [
        {
          "output_type": "execute_result",
          "data": {
            "text/plain": [
              "array([[ 58,  64],\n",
              "       [139, 154]])"
            ]
          },
          "metadata": {},
          "execution_count": 148
        }
      ]
    },
    {
      "cell_type": "code",
      "source": [
        "'''Q65-Create an array of 50 integers between 10 and 1000. Calculate the 10th, 50th (median), and 90th\n",
        "percentiles along with the first and third quartiles.'''\n",
        "arr=np.random.randint(1,1001,50)\n",
        "arr_2=np.percentile(arr,[10,25,50,75,90])\n",
        "arr_2"
      ],
      "metadata": {
        "colab": {
          "base_uri": "https://localhost:8080/"
        },
        "id": "5xzZD0mAdwPK",
        "outputId": "eecc0d80-3dec-472c-dc43-4b371ff969fd"
      },
      "execution_count": 151,
      "outputs": [
        {
          "output_type": "execute_result",
          "data": {
            "text/plain": [
              "array([195.4 , 387.  , 566.  , 819.25, 941.3 ])"
            ]
          },
          "metadata": {},
          "execution_count": 151
        }
      ]
    },
    {
      "cell_type": "code",
      "source": [
        "'''Q66-Create a NumPy array of integers and find the index of a specific element.'''\n",
        "arr=np.array([1,2,3,4,5])\n",
        "element_to_find = 5\n",
        "index = np.where(arr == element_to_find)[0]\n",
        "print(\"Index of\", element_to_find, \":\", index)"
      ],
      "metadata": {
        "colab": {
          "base_uri": "https://localhost:8080/"
        },
        "id": "Ag7plnXufYoE",
        "outputId": "b7239fe2-fb2c-493c-9383-0a4ed8dfac4e"
      },
      "execution_count": 169,
      "outputs": [
        {
          "output_type": "stream",
          "name": "stdout",
          "text": [
            "Index of 5 : [4]\n"
          ]
        }
      ]
    },
    {
      "cell_type": "code",
      "source": [
        "'''Q67-Generate a random NumPy array and sort it in ascending order.'''\n",
        "arr=np.random.randint(1,1001,30)\n",
        "print(arr)\n",
        "arr_sort=np.sort(arr)\n",
        "print(arr_sort)"
      ],
      "metadata": {
        "colab": {
          "base_uri": "https://localhost:8080/"
        },
        "id": "4W3IObDPf8bQ",
        "outputId": "994665ca-fed9-416b-8ce0-189c88fbb068"
      },
      "execution_count": 163,
      "outputs": [
        {
          "output_type": "stream",
          "name": "stdout",
          "text": [
            "[395  10 707 630 270 592 970 605 778 844 862 361 257 133 276 776 683 972\n",
            " 513 313 576 886 980 284 121 107 933 687 997 204]\n",
            "[ 10 107 121 133 204 257 270 276 284 313 361 395 513 576 592 605 630 683\n",
            " 687 707 776 778 844 862 886 933 970 972 980 997]\n"
          ]
        }
      ]
    },
    {
      "cell_type": "code",
      "source": [
        "'''Q68- Filter elements >20  in the given NumPy array\n",
        "arr = np.array([12, 25, 6, 42, 8, 30])'''\n",
        "arr = np.array([12, 25, 6, 42, 8, 30])\n",
        "arr2=arr[arr>20]\n",
        "arr2"
      ],
      "metadata": {
        "colab": {
          "base_uri": "https://localhost:8080/"
        },
        "id": "HDkOGgvyhYpG",
        "outputId": "cd0afac5-4bed-4296-b313-c69c2ff6f169"
      },
      "execution_count": 170,
      "outputs": [
        {
          "output_type": "execute_result",
          "data": {
            "text/plain": [
              "array([25, 42, 30])"
            ]
          },
          "metadata": {},
          "execution_count": 170
        }
      ]
    },
    {
      "cell_type": "code",
      "source": [
        "'''Q69-Filter elements which are divisible by 3 from a given NumPy array\n",
        "arr = np.array([1, 5, 8, 12, 15])'''\n",
        "arr = np.array([1, 5, 8, 12, 15])\n",
        "arr_3=arr[arr%3==0]\n",
        "arr_3"
      ],
      "metadata": {
        "colab": {
          "base_uri": "https://localhost:8080/"
        },
        "id": "2X_7ibUxi91-",
        "outputId": "0dbf9543-5e9c-438c-f468-57eb1204902f"
      },
      "execution_count": 172,
      "outputs": [
        {
          "output_type": "execute_result",
          "data": {
            "text/plain": [
              "array([12, 15])"
            ]
          },
          "metadata": {},
          "execution_count": 172
        }
      ]
    },
    {
      "cell_type": "code",
      "source": [
        "'''Q70-Filter elements which are ≥ 20 and ≤ 40 from a given NumPy array\n",
        "arr = np.array([10, 20, 30, 40, 50])'''\n",
        "arr = np.array([10, 20, 30, 40, 50])\n",
        "arr_1=arr[(arr>=20)&(arr<=40)]\n",
        "arr_1"
      ],
      "metadata": {
        "colab": {
          "base_uri": "https://localhost:8080/"
        },
        "id": "DoQjHFY6kPkf",
        "outputId": "a2bed548-308d-4f7f-d525-e4514acd091a"
      },
      "execution_count": 174,
      "outputs": [
        {
          "output_type": "execute_result",
          "data": {
            "text/plain": [
              "array([20, 30, 40])"
            ]
          },
          "metadata": {},
          "execution_count": 174
        }
      ]
    },
    {
      "cell_type": "code",
      "source": [
        "'''Q71-For the given NumPy array, check its byte order using the `dtype` attribute byteorder\n",
        "arr = np.array([1, 2, 3])'''\n",
        "arr = np.array([1, 2, 3])\n",
        "arr_4=np.byte(arr)\n",
        "byte_order = arr.dtype.byteorder\n",
        "print(\"Byte order:\", byte_order)"
      ],
      "metadata": {
        "colab": {
          "base_uri": "https://localhost:8080/"
        },
        "id": "lXim8wBilA56",
        "outputId": "eb2152c8-80e1-4088-87f7-bb63ee6748aa"
      },
      "execution_count": 188,
      "outputs": [
        {
          "output_type": "stream",
          "name": "stdout",
          "text": [
            "Byte order: =\n"
          ]
        }
      ]
    },
    {
      "cell_type": "code",
      "source": [
        "'''72- For the given NumPy array, perform byte swapping in place using `byteswap()`\n",
        "arr = np.array([1, 2, 3], dtype=np.int32)'''\n",
        "arr = np.array([1, 2, 3], dtype=np.int32)\n",
        "arr1=arr.byteswap(True)\n",
        "arr1"
      ],
      "metadata": {
        "colab": {
          "base_uri": "https://localhost:8080/"
        },
        "id": "GefG0xjblnyj",
        "outputId": "193a1d31-944e-4f90-8185-58a33998918c"
      },
      "execution_count": 189,
      "outputs": [
        {
          "output_type": "execute_result",
          "data": {
            "text/plain": [
              "array([16777216, 33554432, 50331648], dtype=int32)"
            ]
          },
          "metadata": {},
          "execution_count": 189
        }
      ]
    },
    {
      "cell_type": "code",
      "source": [
        "'''Q73-. For the given NumPy array, swap its byte order without modifying the original array using\n",
        "`newbyteorder()`.\n",
        "arr = np.array([1, 2, 3], dtype=np.int32)'''\n",
        "arr = np.array([1, 2, 3], dtype=np.int32)\n",
        "arr1=arr.newbyteorder()\n",
        "arr1"
      ],
      "metadata": {
        "colab": {
          "base_uri": "https://localhost:8080/"
        },
        "id": "LT5mDCAKovwJ",
        "outputId": "2a756fba-876f-40c7-8377-7cc88a565cd0"
      },
      "execution_count": 195,
      "outputs": [
        {
          "output_type": "execute_result",
          "data": {
            "text/plain": [
              "array([16777216, 33554432, 50331648], dtype='>i4')"
            ]
          },
          "metadata": {},
          "execution_count": 195
        }
      ]
    },
    {
      "cell_type": "code",
      "source": [
        "'''Q74-. For the given NumPy array and swap its byte order conditionally based on system endianness using\n",
        "`newbyteorder()\n",
        "arr = np.array([1, 2, 3], dtype=np.int32)'''\n",
        "arr = np.array([1, 2, 3], dtype=np.int32)\n",
        "arr1=arr.byteswap(True)\n",
        "arr2=arr.newbyteorder()\n",
        "arr2"
      ],
      "metadata": {
        "colab": {
          "base_uri": "https://localhost:8080/"
        },
        "id": "cCEDQC1DpM8K",
        "outputId": "56eec93d-1f77-40d2-f840-ee74aa5b0cd3"
      },
      "execution_count": 197,
      "outputs": [
        {
          "output_type": "execute_result",
          "data": {
            "text/plain": [
              "array([1, 2, 3], dtype='>i4')"
            ]
          },
          "metadata": {},
          "execution_count": 197
        }
      ]
    },
    {
      "cell_type": "code",
      "source": [
        "'''Q75- For the given NumPy array, check if byte swapping is necessary for the current system using `dtype`\n",
        "attribute `byteorder`\n",
        "arr = np.array([1, 2, 3], dtype=np.int32)'''\n",
        "arr = np.array([1, 2, 3], dtype=np.int32)\n",
        "arr1=arr.dtype.byteorder\n",
        "arr1"
      ],
      "metadata": {
        "colab": {
          "base_uri": "https://localhost:8080/",
          "height": 36
        },
        "id": "DOQSgYIPrU5H",
        "outputId": "90175897-62fa-429c-8621-f3dde755d02f"
      },
      "execution_count": 198,
      "outputs": [
        {
          "output_type": "execute_result",
          "data": {
            "text/plain": [
              "'='"
            ],
            "application/vnd.google.colaboratory.intrinsic+json": {
              "type": "string"
            }
          },
          "metadata": {},
          "execution_count": 198
        }
      ]
    },
    {
      "cell_type": "code",
      "source": [
        "'''Q76- Create a NumPy array `arr1` with values from 1 to 10. Create a copy of `arr1` named `copy_arr` and modify\n",
        "an element in `copy_arr`. Check if modifying `copy_arr` affects `arr1`'''\n",
        "arr=np.arange(1, 11)\n",
        "modify_arr=arr\n",
        "modify_arr[2]=35\n",
        "print(arr)\n",
        "print(modify_arr)\n",
        "print('\\n*********')\n",
        "copy_arr=arr.copy()\n",
        "copy_arr\n",
        "copy_arr[1]=100\n",
        "print(arr)\n",
        "print(copy_arr)\n"
      ],
      "metadata": {
        "colab": {
          "base_uri": "https://localhost:8080/"
        },
        "id": "wLFG2WP9roNM",
        "outputId": "cdaaff16-bbf8-40ac-b55f-d35cdf2d09d7"
      },
      "execution_count": 206,
      "outputs": [
        {
          "output_type": "stream",
          "name": "stdout",
          "text": [
            "[ 1  2 35  4  5  6  7  8  9 10]\n",
            "[ 1  2 35  4  5  6  7  8  9 10]\n",
            "\n",
            "*********\n",
            "[ 1  2 35  4  5  6  7  8  9 10]\n",
            "[  1 100  35   4   5   6   7   8   9  10]\n"
          ]
        }
      ]
    },
    {
      "cell_type": "code",
      "source": [
        "'''Q77-Create a 2D NumPy array `matrix` of shape (3, 3) with random integers. Extract a slice `view_slice` from\n",
        "the matrix. Modify an element in `view_slice` and observe if it changes the original `matrix`'''\n",
        "matrix=np.random.randint(1,3,(3,3))\n",
        "view_slice = matrix[1:, 1:]\n",
        "print(view_slice)\n",
        "view_slice[0,0]=30\n",
        "view_slice"
      ],
      "metadata": {
        "colab": {
          "base_uri": "https://localhost:8080/"
        },
        "id": "bXg9rq6TsLLQ",
        "outputId": "e0001f79-2fbc-41ba-9f26-912c86afbb13"
      },
      "execution_count": 214,
      "outputs": [
        {
          "output_type": "stream",
          "name": "stdout",
          "text": [
            "[[2 1]\n",
            " [2 1]]\n"
          ]
        },
        {
          "output_type": "execute_result",
          "data": {
            "text/plain": [
              "array([[30,  1],\n",
              "       [ 2,  1]])"
            ]
          },
          "metadata": {},
          "execution_count": 214
        }
      ]
    },
    {
      "cell_type": "code",
      "source": [
        "''' Q78-Create a NumPy array `array_a` of shape (4, 3) with sequential integers from 1 to 12. Extract a slice\n",
        "`view_b` from `array_a` and broadcast the addition of 5 to view_b. Check if it alters the original `array_a`'''\n",
        "array_a=np.arange(1,13).reshape(4,3)\n",
        "print(array_a)\n",
        "view_b=array_a[0:2]\n",
        "print(view_b)\n",
        "view_b+=5\n",
        "print(view_b)"
      ],
      "metadata": {
        "colab": {
          "base_uri": "https://localhost:8080/"
        },
        "id": "YWxeafvnuOiq",
        "outputId": "c888a96f-84f2-48d9-fe41-f219385180af"
      },
      "execution_count": 226,
      "outputs": [
        {
          "output_type": "stream",
          "name": "stdout",
          "text": [
            "[[ 1  2  3]\n",
            " [ 4  5  6]\n",
            " [ 7  8  9]\n",
            " [10 11 12]]\n",
            "[[1 2 3]\n",
            " [4 5 6]]\n",
            "[[ 6  7  8]\n",
            " [ 9 10 11]]\n"
          ]
        }
      ]
    },
    {
      "cell_type": "code",
      "source": [
        "'''Q79- Create a NumPy array `orig_array` of shape (2, 4) with values from 1 to 8. Create a reshaped view\n",
        "`reshaped_view` of shape (4, 2) from orig_array. Modify an element in `reshaped_view` and check if it\n",
        "reflects changes in the original `orig_array`.'''\n",
        "orig_array=np.arange(1,9).reshape(2,4)\n",
        "reshaped_view=np.arange(1,9).reshape(4,2)\n",
        "print(reshaped_view)\n",
        "reshaped_view[1,1]=36\n",
        "print(reshaped_view)"
      ],
      "metadata": {
        "colab": {
          "base_uri": "https://localhost:8080/"
        },
        "id": "0hqGOPHCwcBG",
        "outputId": "bb357d82-5b8a-41af-ef74-b5e30bd500e5"
      },
      "execution_count": 229,
      "outputs": [
        {
          "output_type": "stream",
          "name": "stdout",
          "text": [
            "[[1 2]\n",
            " [3 4]\n",
            " [5 6]\n",
            " [7 8]]\n",
            "[[ 1  2]\n",
            " [ 3 36]\n",
            " [ 5  6]\n",
            " [ 7  8]]\n"
          ]
        }
      ]
    },
    {
      "cell_type": "code",
      "source": [
        "'''Q80-Create a NumPy array `data` of shape (3, 4) with random integers. Extract a copy `data_copy` of\n",
        "elements greater than 5. Modify an element in `data_copy` and verify if it affects the original `data`'''\n",
        "data = np.random.randint(1, 10,(3, 4))\n",
        "data_copy=data[data > 5].copy()\n",
        "print(data_copy)\n",
        "data_copy[5]=23\n",
        "print(data_copy)"
      ],
      "metadata": {
        "colab": {
          "base_uri": "https://localhost:8080/"
        },
        "id": "-W-_U8k2zLP8",
        "outputId": "cfebe5a6-e23b-487c-b7ca-e7cda37b9dce"
      },
      "execution_count": 239,
      "outputs": [
        {
          "output_type": "stream",
          "name": "stdout",
          "text": [
            "[6 9 9 8 9 8 8 8]\n",
            "[ 6  9  9  8  9 23  8  8]\n"
          ]
        }
      ]
    },
    {
      "cell_type": "code",
      "source": [
        "'''Q81-Create two matrices A and B of identical shape containing integers and perform addition and subtraction\n",
        "operations between them'''\n",
        "matrix1=np.arange(1,13).reshape(4,3)\n",
        "matrix2=np.arange(11,23).reshape(4,3)\n",
        "matrix3=matrix1+matrix2\n",
        "matrix4=matrix2-matrix1\n",
        "print(matrix3)\n",
        "print(\"************\")\n",
        "print(matrix4)"
      ],
      "metadata": {
        "colab": {
          "base_uri": "https://localhost:8080/"
        },
        "id": "u5OoKDVaz3el",
        "outputId": "676d3aa0-f3fa-4888-d915-401fd8567fb0"
      },
      "execution_count": 245,
      "outputs": [
        {
          "output_type": "stream",
          "name": "stdout",
          "text": [
            "[[12 14 16]\n",
            " [18 20 22]\n",
            " [24 26 28]\n",
            " [30 32 34]]\n",
            "************\n",
            "[[10 10 10]\n",
            " [10 10 10]\n",
            " [10 10 10]\n",
            " [10 10 10]]\n"
          ]
        }
      ]
    },
    {
      "cell_type": "code",
      "source": [
        "'''Q82- Generate two matrices `C` (3x2) and `D` (2x4) and perform matrix multiplication'''\n",
        "C = np.array([[1, 2],\n",
        "              [3, 4],\n",
        "              [5, 6]])\n",
        "D = np.array([[7, 8, 9, 10],\n",
        "              [11, 12, 13, 14]])\n",
        "arr= np.dot(C, D)\n",
        "arr"
      ],
      "metadata": {
        "colab": {
          "base_uri": "https://localhost:8080/"
        },
        "id": "JY62y-PWLpi6",
        "outputId": "5ca684f0-ea53-4094-faac-96bc043e9822"
      },
      "execution_count": 244,
      "outputs": [
        {
          "output_type": "execute_result",
          "data": {
            "text/plain": [
              "array([[ 29,  32,  35,  38],\n",
              "       [ 65,  72,  79,  86],\n",
              "       [101, 112, 123, 134]])"
            ]
          },
          "metadata": {},
          "execution_count": 244
        }
      ]
    },
    {
      "cell_type": "code",
      "source": [
        "'''Q83- Create a matrix `E` and find its transpose.'''\n",
        "E= np.array([[1, 2],\n",
        "              [3, 4],\n",
        "              [5, 6]])\n",
        "arr1=E.T\n",
        "arr1"
      ],
      "metadata": {
        "colab": {
          "base_uri": "https://localhost:8080/"
        },
        "id": "yXF76qytLr85",
        "outputId": "3dbc1172-5121-492d-a72d-b84a54e43427"
      },
      "execution_count": 247,
      "outputs": [
        {
          "output_type": "execute_result",
          "data": {
            "text/plain": [
              "array([[1, 3, 5],\n",
              "       [2, 4, 6]])"
            ]
          },
          "metadata": {},
          "execution_count": 247
        }
      ]
    },
    {
      "cell_type": "code",
      "source": [
        "'''Q84- Generate a square matrix `F` and compute its determinant.'''\n",
        "arr=np.random.randint(1,10,(3,3))\n",
        "arr_det = np.linalg.det(arr)\n",
        "arr_det"
      ],
      "metadata": {
        "colab": {
          "base_uri": "https://localhost:8080/"
        },
        "id": "yiyU1Z-1MNlx",
        "outputId": "a4d8ef59-6a8b-422c-c018-5b4f12070a21"
      },
      "execution_count": 251,
      "outputs": [
        {
          "output_type": "execute_result",
          "data": {
            "text/plain": [
              "352.99999999999994"
            ]
          },
          "metadata": {},
          "execution_count": 251
        }
      ]
    },
    {
      "cell_type": "code",
      "source": [
        "'''Q85- Create a square matrix `G` and find its inverse'''\n",
        "arr=np.random.randint(1,10,(3,3))\n",
        "arr_inv = np.linalg.inv(arr)\n",
        "arr_inv"
      ],
      "metadata": {
        "colab": {
          "base_uri": "https://localhost:8080/"
        },
        "id": "IdITM0wTMoel",
        "outputId": "3b901f57-b4fe-4ad3-ed1a-e14bdaf4b6c7"
      },
      "execution_count": 254,
      "outputs": [
        {
          "output_type": "execute_result",
          "data": {
            "text/plain": [
              "array([[-0.0625    , -0.02083333,  0.14583333],\n",
              "       [-0.171875  ,  0.19270833, -0.09895833],\n",
              "       [ 0.28125   , -0.07291667,  0.01041667]])"
            ]
          },
          "metadata": {},
          "execution_count": 254
        }
      ]
    },
    {
      "cell_type": "code",
      "source": [],
      "metadata": {
        "id": "WmmRsMq6M_7a"
      },
      "execution_count": null,
      "outputs": []
    }
  ]
}